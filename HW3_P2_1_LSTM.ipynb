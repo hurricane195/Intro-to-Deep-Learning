{
  "cells": [
    {
      "cell_type": "markdown",
      "metadata": {
        "id": "view-in-github",
        "colab_type": "text"
      },
      "source": [
        "<a href=\"https://colab.research.google.com/github/hurricane195/Intro-to-Deep-Learning/blob/Homework_3/HW3_P2_1_LSTM.ipynb\" target=\"_parent\"><img src=\"https://colab.research.google.com/assets/colab-badge.svg\" alt=\"Open In Colab\"/></a>"
      ]
    },
    {
      "cell_type": "markdown",
      "metadata": {
        "id": "zXJ7QOmqv1p9"
      },
      "source": [
        "**Build the model for.LSTM** and rnn.GRU **for the tiny Shakespeare dataset, the data loader code is already provided.**\n",
        "\n",
        "**Train the models for the sequence of 20 and 30, report and compare training loss, validation accuracy, execution time for training, and computational and mode size complexities across the two models.**"
      ]
    },
    {
      "cell_type": "code",
      "execution_count": null,
      "metadata": {
        "id": "MC4eRxw1vpcG"
      },
      "outputs": [],
      "source": [
        "#Using a modided example of Dr. Tabkhi's \"RNN\" available at https://github.com/HamedTabkhi/Intro-to-DL/blob/main/RNN.py\n",
        "#Using a modided example of Dr. Tabkhi's \"RNN-CharDataset\" available at https://github.com/HamedTabkhi/Intro-to-DL/blob/main/RNN-CharDataset.py\n",
        "#Using a modided example of Dr. Tabkhi's \"shakespeare-loader.py\" available at https://github.com/HamedTabkhi/Intro-to-DL/blob/main/shakespeare-loader.py"
      ]
    },
    {
      "cell_type": "code",
      "execution_count": null,
      "metadata": {
        "id": "QsIqPri1TA1l"
      },
      "outputs": [],
      "source": [
        "import torch\n",
        "import torch.nn as nn\n",
        "import torch.optim as optim\n",
        "import numpy as np\n",
        "from sklearn.model_selection import train_test_split\n",
        "import time\n",
        "\n",
        "import torch\n",
        "from torch.utils.data import Dataset, DataLoader\n",
        "import requests"
      ]
    },
    {
      "cell_type": "code",
      "execution_count": null,
      "metadata": {
        "colab": {
          "base_uri": "https://localhost:8080/"
        },
        "id": "199KcmHMx1vo",
        "outputId": "75b87671-d452-4d04-fa0a-8c0e9935c3ed"
      },
      "outputs": [
        {
          "output_type": "execute_result",
          "data": {
            "text/plain": [
              "device(type='cuda')"
            ]
          },
          "metadata": {},
          "execution_count": 20
        }
      ],
      "source": [
        "# Check for CUDA support and set the device accordingly\n",
        "device = torch.device(\"cuda\" if torch.cuda.is_available() else \"cpu\")\n",
        "device"
      ]
    },
    {
      "cell_type": "code",
      "execution_count": null,
      "metadata": {
        "id": "0E-V7pjorX53"
      },
      "outputs": [],
      "source": [
        "#Download the dataset\n",
        "url = \"https://raw.githubusercontent.com/karpathy/char-rnn/master/data/tinyshakespeare/input.txt\"\n",
        "response = requests.get(url)\n",
        "text = response.text  # This is the entire text data"
      ]
    },
    {
      "cell_type": "markdown",
      "metadata": {
        "id": "UAxQQGCMsM4t"
      },
      "source": [
        "**MAXIMUM LENGTH OF INPUT SECQUENCES = 20**"
      ]
    },
    {
      "cell_type": "code",
      "execution_count": null,
      "metadata": {
        "id": "ty3Ss4JVrdV_"
      },
      "outputs": [],
      "source": [
        "#Prepare the dataset\n",
        "sequence_length = 20\n",
        "# Create a character mapping to integers\n",
        "chars = sorted(list(set(text)))\n",
        "char_to_int = {ch: i for i, ch in enumerate(chars)}\n",
        "int_to_char = {i: ch for i, ch in enumerate(chars)}"
      ]
    },
    {
      "cell_type": "code",
      "execution_count": null,
      "metadata": {
        "id": "aIuvc0zPrhzj"
      },
      "outputs": [],
      "source": [
        "# Encode the text into integers\n",
        "encoded_text = [char_to_int[ch] for ch in text]"
      ]
    },
    {
      "cell_type": "code",
      "execution_count": null,
      "metadata": {
        "id": "e4EWMpZRrkcR"
      },
      "outputs": [],
      "source": [
        "# Create sequences and targets\n",
        "sequences = []\n",
        "targets = []\n",
        "for i in range(0, len(encoded_text) - sequence_length):\n",
        "    seq = encoded_text[i:i+sequence_length]\n",
        "    target = encoded_text[i+sequence_length]\n",
        "    sequences.append(seq)\n",
        "    targets.append(target)\n",
        "\n",
        "sequences = np.array(sequences)\n",
        "targets = np.array(targets)"
      ]
    },
    {
      "cell_type": "code",
      "execution_count": null,
      "metadata": {
        "id": "H-updB7piHC6"
      },
      "outputs": [],
      "source": [
        "# Splitting the dataset into training and validation sets\n",
        "X_train, X_val, y_train, y_val = train_test_split(sequences, targets, test_size=0.2, random_state=42)"
      ]
    },
    {
      "cell_type": "code",
      "execution_count": null,
      "metadata": {
        "id": "ofrCzO7QilqM"
      },
      "outputs": [],
      "source": [
        "# Converting data to PyTorch tensors\n",
        "X_train = torch.tensor(X_train, dtype=torch.long)\n",
        "y_train = torch.tensor(y_train, dtype=torch.long)\n",
        "X_val = torch.tensor(X_val, dtype=torch.long)\n",
        "y_val = torch.tensor(y_val, dtype=torch.long)"
      ]
    },
    {
      "cell_type": "code",
      "execution_count": null,
      "metadata": {
        "id": "ot47W5O6rpVt"
      },
      "outputs": [],
      "source": [
        "#Create a dataset class\n",
        "class CharDataset(Dataset):\n",
        "    def __init__(self, sequences, targets):\n",
        "        self.sequences = sequences\n",
        "        self.targets = targets\n",
        "\n",
        "    def __len__(self):\n",
        "        return len(self.sequences)\n",
        "\n",
        "    def __getitem__(self, index):\n",
        "        return self.sequences[index], self.targets[index]\n",
        "\n",
        "# Instantiate the dataset\n",
        "dataset = CharDataset(sequences, targets)"
      ]
    },
    {
      "cell_type": "code",
      "execution_count": null,
      "metadata": {
        "id": "zaYFkmSkrwPN"
      },
      "outputs": [],
      "source": [
        "# Create datasets and data loaders\n",
        "batch_size = 128\n",
        "train_dataset = CharDataset(X_train, y_train)\n",
        "train_loader = DataLoader(train_dataset, batch_size=batch_size, shuffle=True)\n",
        "\n",
        "val_dataset = CharDataset(X_val, y_val)\n",
        "val_loader = DataLoader(val_dataset, batch_size=batch_size)"
      ]
    },
    {
      "cell_type": "code",
      "execution_count": null,
      "metadata": {
        "id": "37fojvqSTe_7"
      },
      "outputs": [],
      "source": [
        "# Defining the RNN model\n",
        "class CharRNN(nn.Module):\n",
        "    def __init__(self, input_size, hidden_size, output_size):\n",
        "        super(CharRNN, self).__init__()\n",
        "        self.hidden_size = hidden_size\n",
        "        #This line takes the input tensor x, which contains indices of characters, and passes it through an embedding layer (self.embedding).\n",
        "        #The embedding layer converts these indices into dense vectors of fixed size.\n",
        "        #These vectors are learned during training and can capture semantic similarities between characters.\n",
        "        #The result is a higher-dimensional representation of the input sequence, where each character index is replaced by its corresponding embedding vector.\n",
        "        self.embedding = nn.Embedding(input_size, hidden_size)\n",
        "        self.rnn = nn.LSTM(hidden_size, hidden_size, batch_first=True)\n",
        "        self.fc = nn.Linear(hidden_size, output_size)\n",
        "\n",
        "    def forward(self, x):\n",
        "        embedded = self.embedding(x)\n",
        "        #The RNN layer returns two outputs:\n",
        "        #1- the output tensor containing the output of the RNN at each time step for each sequence in the batch,\n",
        "        #2-the hidden state (_) of the last time step (which is not used in this line, hence the underscore).\n",
        "        output, _ = self.rnn(embedded)\n",
        "        #The RNN's output contains the outputs for every time step,\n",
        "        #but for this task, we're only interested in the output of the last time step because we're predicting the next character after the sequence.\n",
        "        #output[:, -1, :] selects the last time step's output for every sequence in the batch (-1 indexes the last item in Python).\n",
        "        output = self.fc(output[:, -1, :])  # Get the output of the last RNN cell\n",
        "        return output"
      ]
    },
    {
      "cell_type": "code",
      "execution_count": null,
      "metadata": {
        "id": "td4AGgC2TiHl"
      },
      "outputs": [],
      "source": [
        "# Hyperparameters\n",
        "hidden_size = 100\n",
        "learning_rate = 0.001\n",
        "epochs = 50"
      ]
    },
    {
      "cell_type": "code",
      "execution_count": null,
      "metadata": {
        "id": "08mM2r-QTkFT"
      },
      "outputs": [],
      "source": [
        "# Model, loss, and optimizer\n",
        "model = CharRNN(len(chars), hidden_size, len(chars))\n",
        "criterion = nn.CrossEntropyLoss()\n",
        "optimizer = optim.Adam(model.parameters(), lr=learning_rate)"
      ]
    },
    {
      "cell_type": "code",
      "execution_count": null,
      "metadata": {
        "colab": {
          "base_uri": "https://localhost:8080/"
        },
        "id": "V3IEg0wRqCC1",
        "outputId": "3e11351c-d365-4b4d-9b2a-03b5bf2188fd"
      },
      "outputs": [
        {
          "output_type": "execute_result",
          "data": {
            "text/plain": [
              "93865"
            ]
          },
          "metadata": {},
          "execution_count": 32
        }
      ],
      "source": [
        "#count trainable parameters of the model\n",
        "def count_parameters(model):\n",
        "    return sum(p.numel() for p in model.parameters() if p.requires_grad)\n",
        "\n",
        "count_parameters(model)"
      ]
    },
    {
      "cell_type": "code",
      "execution_count": null,
      "metadata": {
        "colab": {
          "base_uri": "https://localhost:8080/"
        },
        "id": "gqpBZgkwUXuf",
        "outputId": "94ef4eff-f2e1-4200-f778-b675a338fdc4"
      },
      "outputs": [
        {
          "output_type": "stream",
          "name": "stdout",
          "text": [
            "Epoch 1/50, Training Loss: 1.8935, Training Accuracy: 0.4489, Validation Loss: 1.6863, Validation Accuracy: 0.4990\n",
            "Epoch 2/50, Training Loss: 1.6309, Training Accuracy: 0.5123, Validation Loss: 1.5970, Validation Accuracy: 0.5200\n",
            "Epoch 3/50, Training Loss: 1.5621, Training Accuracy: 0.5292, Validation Loss: 1.5547, Validation Accuracy: 0.5320\n",
            "Epoch 4/50, Training Loss: 1.5242, Training Accuracy: 0.5401, Validation Loss: 1.5224, Validation Accuracy: 0.5394\n",
            "Epoch 5/50, Training Loss: 1.4984, Training Accuracy: 0.5461, Validation Loss: 1.5091, Validation Accuracy: 0.5430\n",
            "Epoch 6/50, Training Loss: 1.4805, Training Accuracy: 0.5508, Validation Loss: 1.4932, Validation Accuracy: 0.5477\n",
            "Epoch 7/50, Training Loss: 1.4665, Training Accuracy: 0.5541, Validation Loss: 1.4860, Validation Accuracy: 0.5492\n",
            "Epoch 8/50, Training Loss: 1.4548, Training Accuracy: 0.5570, Validation Loss: 1.4720, Validation Accuracy: 0.5530\n",
            "Epoch 9/50, Training Loss: 1.4456, Training Accuracy: 0.5592, Validation Loss: 1.4675, Validation Accuracy: 0.5530\n",
            "Epoch 10/50, Training Loss: 1.4378, Training Accuracy: 0.5612, Validation Loss: 1.4631, Validation Accuracy: 0.5548\n",
            "Epoch 11/50, Training Loss: 1.4306, Training Accuracy: 0.5629, Validation Loss: 1.4589, Validation Accuracy: 0.5561\n",
            "Epoch 12/50, Training Loss: 1.4248, Training Accuracy: 0.5641, Validation Loss: 1.4587, Validation Accuracy: 0.5552\n",
            "Epoch 13/50, Training Loss: 1.4198, Training Accuracy: 0.5657, Validation Loss: 1.4516, Validation Accuracy: 0.5581\n",
            "Epoch 14/50, Training Loss: 1.4149, Training Accuracy: 0.5666, Validation Loss: 1.4460, Validation Accuracy: 0.5603\n",
            "Epoch 15/50, Training Loss: 1.4109, Training Accuracy: 0.5674, Validation Loss: 1.4462, Validation Accuracy: 0.5589\n",
            "Epoch 16/50, Training Loss: 1.4073, Training Accuracy: 0.5682, Validation Loss: 1.4413, Validation Accuracy: 0.5599\n",
            "Epoch 17/50, Training Loss: 1.4035, Training Accuracy: 0.5692, Validation Loss: 1.4438, Validation Accuracy: 0.5592\n",
            "Epoch 18/50, Training Loss: 1.4004, Training Accuracy: 0.5701, Validation Loss: 1.4380, Validation Accuracy: 0.5610\n",
            "Epoch 19/50, Training Loss: 1.3975, Training Accuracy: 0.5708, Validation Loss: 1.4370, Validation Accuracy: 0.5620\n",
            "Epoch 20/50, Training Loss: 1.3948, Training Accuracy: 0.5713, Validation Loss: 1.4372, Validation Accuracy: 0.5610\n",
            "Epoch 21/50, Training Loss: 1.3924, Training Accuracy: 0.5720, Validation Loss: 1.4377, Validation Accuracy: 0.5586\n",
            "Epoch 22/50, Training Loss: 1.3903, Training Accuracy: 0.5726, Validation Loss: 1.4385, Validation Accuracy: 0.5619\n",
            "Epoch 23/50, Training Loss: 1.3884, Training Accuracy: 0.5734, Validation Loss: 1.4320, Validation Accuracy: 0.5621\n",
            "Epoch 24/50, Training Loss: 1.3863, Training Accuracy: 0.5735, Validation Loss: 1.4296, Validation Accuracy: 0.5632\n",
            "Epoch 25/50, Training Loss: 1.3845, Training Accuracy: 0.5743, Validation Loss: 1.4328, Validation Accuracy: 0.5631\n",
            "Epoch 26/50, Training Loss: 1.3828, Training Accuracy: 0.5748, Validation Loss: 1.4308, Validation Accuracy: 0.5618\n",
            "Epoch 27/50, Training Loss: 1.3808, Training Accuracy: 0.5753, Validation Loss: 1.4326, Validation Accuracy: 0.5641\n",
            "Epoch 28/50, Training Loss: 1.3798, Training Accuracy: 0.5752, Validation Loss: 1.4297, Validation Accuracy: 0.5644\n",
            "Epoch 29/50, Training Loss: 1.3779, Training Accuracy: 0.5759, Validation Loss: 1.4286, Validation Accuracy: 0.5641\n",
            "Epoch 30/50, Training Loss: 1.3772, Training Accuracy: 0.5759, Validation Loss: 1.4285, Validation Accuracy: 0.5643\n",
            "Epoch 31/50, Training Loss: 1.3754, Training Accuracy: 0.5761, Validation Loss: 1.4258, Validation Accuracy: 0.5652\n",
            "Epoch 32/50, Training Loss: 1.3747, Training Accuracy: 0.5765, Validation Loss: 1.4258, Validation Accuracy: 0.5655\n",
            "Epoch 33/50, Training Loss: 1.3732, Training Accuracy: 0.5767, Validation Loss: 1.4228, Validation Accuracy: 0.5657\n",
            "Epoch 34/50, Training Loss: 1.3719, Training Accuracy: 0.5770, Validation Loss: 1.4266, Validation Accuracy: 0.5637\n",
            "Epoch 35/50, Training Loss: 1.3712, Training Accuracy: 0.5774, Validation Loss: 1.4273, Validation Accuracy: 0.5641\n",
            "Epoch 36/50, Training Loss: 1.3706, Training Accuracy: 0.5776, Validation Loss: 1.4272, Validation Accuracy: 0.5639\n",
            "Epoch 37/50, Training Loss: 1.3695, Training Accuracy: 0.5780, Validation Loss: 1.4263, Validation Accuracy: 0.5661\n",
            "Epoch 38/50, Training Loss: 1.3686, Training Accuracy: 0.5783, Validation Loss: 1.4242, Validation Accuracy: 0.5647\n",
            "Epoch 39/50, Training Loss: 1.3678, Training Accuracy: 0.5782, Validation Loss: 1.4240, Validation Accuracy: 0.5671\n",
            "Epoch 40/50, Training Loss: 1.3666, Training Accuracy: 0.5785, Validation Loss: 1.4234, Validation Accuracy: 0.5659\n",
            "Epoch 41/50, Training Loss: 1.3660, Training Accuracy: 0.5788, Validation Loss: 1.4236, Validation Accuracy: 0.5646\n",
            "Epoch 42/50, Training Loss: 1.3653, Training Accuracy: 0.5785, Validation Loss: 1.4249, Validation Accuracy: 0.5656\n",
            "Epoch 43/50, Training Loss: 1.3647, Training Accuracy: 0.5790, Validation Loss: 1.4226, Validation Accuracy: 0.5663\n",
            "Epoch 44/50, Training Loss: 1.3640, Training Accuracy: 0.5793, Validation Loss: 1.4256, Validation Accuracy: 0.5652\n",
            "Epoch 45/50, Training Loss: 1.3632, Training Accuracy: 0.5794, Validation Loss: 1.4246, Validation Accuracy: 0.5659\n",
            "Epoch 46/50, Training Loss: 1.3621, Training Accuracy: 0.5794, Validation Loss: 1.4235, Validation Accuracy: 0.5654\n",
            "Epoch 47/50, Training Loss: 1.3615, Training Accuracy: 0.5796, Validation Loss: 1.4222, Validation Accuracy: 0.5657\n",
            "Epoch 48/50, Training Loss: 1.3612, Training Accuracy: 0.5804, Validation Loss: 1.4236, Validation Accuracy: 0.5666\n",
            "Epoch 49/50, Training Loss: 1.3607, Training Accuracy: 0.5801, Validation Loss: 1.4230, Validation Accuracy: 0.5666\n",
            "Epoch 50/50, Training Loss: 1.3600, Training Accuracy: 0.5803, Validation Loss: 1.4214, Validation Accuracy: 0.5671\n",
            "Training time: 3527.0161826610565 seconds\n"
          ]
        }
      ],
      "source": [
        "# Training the model\n",
        "start_time = time.time()\n",
        "for epoch in range(epochs):\n",
        "    model.train()\n",
        "    total_loss = 0\n",
        "    correct = 0\n",
        "    total = 0\n",
        "    for batch_X, batch_y in train_loader:\n",
        "        optimizer.zero_grad()\n",
        "        output = model(batch_X)\n",
        "        loss = criterion(output, batch_y)\n",
        "        loss.backward()\n",
        "        optimizer.step()\n",
        "        total_loss += loss.item()\n",
        "        _, predicted = torch.max(output.data, 1)\n",
        "        total += batch_y.size(0)\n",
        "        correct += (predicted == batch_y).sum().item()\n",
        "    train_accuracy = correct / total\n",
        "    avg_loss = total_loss / len(train_loader)\n",
        "\n",
        "    # Validation\n",
        "    model.eval()\n",
        "    with torch.no_grad():\n",
        "        total_val_loss = 0\n",
        "        correct = 0\n",
        "        total = 0\n",
        "        for batch_X, batch_y in val_loader:\n",
        "            val_output = model(batch_X)\n",
        "            val_loss = criterion(val_output, batch_y)\n",
        "            total_val_loss += val_loss.item()\n",
        "            _, predicted = torch.max(val_output.data, 1)\n",
        "            total += batch_y.size(0)\n",
        "            correct += (predicted == batch_y).sum().item()\n",
        "    val_accuracy = correct / total\n",
        "    avg_val_loss = total_val_loss / len(val_loader)\n",
        "\n",
        "    \"\"\"\n",
        "    if (epoch+1) % 10 == 0:\n",
        "        print(f\"Epoch {epoch+1}/{epochs}, Training Loss: {avg_loss:.4f}, Training Accuracy: {train_accuracy:.4f}, Validation Loss: {avg_val_loss:.4f}, Validation Accuracy: {val_accuracy:.4f}\")\n",
        "    \"\"\"\n",
        "    print(f\"Epoch {epoch+1}/{epochs}, Training Loss: {avg_loss:.4f}, Training Accuracy: {train_accuracy:.4f}, Validation Loss: {avg_val_loss:.4f}, Validation Accuracy: {val_accuracy:.4f}\")\n",
        "\n",
        "end_time = time.time()\n",
        "training_time = end_time - start_time\n",
        "print(f\"Training time: {training_time} seconds\")"
      ]
    },
    {
      "cell_type": "code",
      "execution_count": null,
      "metadata": {
        "colab": {
          "base_uri": "https://localhost:8080/"
        },
        "id": "1tb1RaHkUa70",
        "outputId": "76f7077e-693a-4022-b3fd-76cff553a4b9"
      },
      "outputs": [
        {
          "output_type": "stream",
          "name": "stdout",
          "text": [
            "FIRST TEST STRING: This is a simple example to demonstrate how to predict the next char..\n",
            "First predicted next character: 'g'\n",
            "\n",
            "SECOND TEST STRING: Long live the quee..\n",
            "Second predicted next character: 'n'\n",
            "\n",
            "THIRD TEST STRING: Be quiet and do not spea..\n",
            "Third predicted next character: 'k'\n",
            "\n"
          ]
        }
      ],
      "source": [
        "# Prediction function\n",
        "def predict_next_char(model, char_to_int, int_to_char, initial_str):\n",
        "    model.eval()\n",
        "    with torch.no_grad():\n",
        "        initial_input = torch.tensor([char_to_int[c] for c in initial_str[-sequence_length:]], dtype=torch.long).unsqueeze(0)\n",
        "        prediction = model(initial_input)\n",
        "        predicted_index = torch.argmax(prediction, dim=1).item()\n",
        "        return int_to_char[predicted_index]\n",
        "\n",
        "# Predicting the first next character\n",
        "test_str = \"This is a simple example to demonstrate how to predict the next char\"\n",
        "predicted_char = predict_next_char(model, char_to_int, int_to_char, test_str)\n",
        "print('FIRST TEST STRING: This is a simple example to demonstrate how to predict the next char..')\n",
        "print(f\"First predicted next character: '{predicted_char}'\")\n",
        "print(\"\")\n",
        "\n",
        "# Predicting the second next character\n",
        "test_str = \"Long live the quee\"\n",
        "predicted_char = predict_next_char(model, char_to_int, int_to_char, test_str)\n",
        "print('SECOND TEST STRING: Long live the quee..')\n",
        "print(f\"Second predicted next character: '{predicted_char}'\")\n",
        "print(\"\")\n",
        "\n",
        "\n",
        "# Predicting the third next character\n",
        "test_str = \"Be quiet and do not spea\"\n",
        "predicted_char = predict_next_char(model, char_to_int, int_to_char, test_str)\n",
        "print('THIRD TEST STRING: Be quiet and do not spea..')\n",
        "print(f\"Third predicted next character: '{predicted_char}'\")\n",
        "print(\"\")"
      ]
    },
    {
      "cell_type": "markdown",
      "metadata": {
        "id": "5uO-f-zXsWC-"
      },
      "source": [
        "**MAXIMUM LENGTH OF INPUT SECQUENCES = 30**"
      ]
    },
    {
      "cell_type": "code",
      "execution_count": null,
      "metadata": {
        "id": "vT-Fx3EDscAz"
      },
      "outputs": [],
      "source": [
        "#Prepare the dataset\n",
        "sequence_length = 30\n",
        "# Create a character mapping to integers\n",
        "chars = sorted(list(set(text)))\n",
        "char_to_int = {ch: i for i, ch in enumerate(chars)}\n",
        "int_to_char = {i: ch for i, ch in enumerate(chars)}"
      ]
    },
    {
      "cell_type": "code",
      "execution_count": null,
      "metadata": {
        "id": "w7RnXSn6tgJ2"
      },
      "outputs": [],
      "source": [
        "# Encode the text into integers\n",
        "encoded_text = [char_to_int[ch] for ch in text]"
      ]
    },
    {
      "cell_type": "code",
      "execution_count": null,
      "metadata": {
        "id": "3UpehoKotivU"
      },
      "outputs": [],
      "source": [
        "# Create sequences and targets\n",
        "sequences = []\n",
        "targets = []\n",
        "for i in range(0, len(encoded_text) - sequence_length):\n",
        "    seq = encoded_text[i:i+sequence_length]\n",
        "    target = encoded_text[i+sequence_length]\n",
        "    sequences.append(seq)\n",
        "    targets.append(target)\n",
        "\n",
        "sequences = np.array(sequences)\n",
        "targets = np.array(targets)"
      ]
    },
    {
      "cell_type": "code",
      "execution_count": null,
      "metadata": {
        "id": "uC4fSsNWhavB"
      },
      "outputs": [],
      "source": [
        "# Splitting the dataset into training and validation sets\n",
        "X_train, X_val, y_train, y_val = train_test_split(sequences, targets, test_size=0.2, random_state=42)"
      ]
    },
    {
      "cell_type": "code",
      "execution_count": null,
      "metadata": {
        "id": "YWkNO_tJhbg5"
      },
      "outputs": [],
      "source": [
        "# Converting data to PyTorch tensors\n",
        "X_train = torch.tensor(X_train, dtype=torch.long)\n",
        "y_train = torch.tensor(y_train, dtype=torch.long)\n",
        "X_val = torch.tensor(X_val, dtype=torch.long)\n",
        "y_val = torch.tensor(y_val, dtype=torch.long)"
      ]
    },
    {
      "cell_type": "code",
      "execution_count": null,
      "metadata": {
        "id": "Plh3CGythgFH"
      },
      "outputs": [],
      "source": [
        "#Create a dataset class\n",
        "class CharDataset(Dataset):\n",
        "    def __init__(self, sequences, targets):\n",
        "        self.sequences = sequences\n",
        "        self.targets = targets\n",
        "\n",
        "    def __len__(self):\n",
        "        return len(self.sequences)\n",
        "\n",
        "    def __getitem__(self, index):\n",
        "        return self.sequences[index], self.targets[index]\n",
        "\n",
        "# Instantiate the dataset\n",
        "dataset = CharDataset(sequences, targets)"
      ]
    },
    {
      "cell_type": "code",
      "source": [
        "# Create datasets and data loaders\n",
        "batch_size = 128\n",
        "train_dataset = CharDataset(X_train, y_train)\n",
        "train_loader = DataLoader(train_dataset, batch_size=batch_size, shuffle=True)\n",
        "\n",
        "val_dataset = CharDataset(X_val, y_val)\n",
        "val_loader = DataLoader(val_dataset, batch_size=batch_size)"
      ],
      "metadata": {
        "id": "M0K-d8mdSOpK"
      },
      "execution_count": null,
      "outputs": []
    },
    {
      "cell_type": "code",
      "execution_count": null,
      "metadata": {
        "id": "L_J-3wq4tw3Q"
      },
      "outputs": [],
      "source": [
        "# Defining the RNN model\n",
        "class CharRNN(nn.Module):\n",
        "    def __init__(self, input_size, hidden_size, output_size):\n",
        "        super(CharRNN, self).__init__()\n",
        "        self.hidden_size = hidden_size\n",
        "        #This line takes the input tensor x, which contains indices of characters, and passes it through an embedding layer (self.embedding).\n",
        "        #The embedding layer converts these indices into dense vectors of fixed size.\n",
        "        #These vectors are learned during training and can capture semantic similarities between characters.\n",
        "        #The result is a higher-dimensional representation of the input sequence, where each character index is replaced by its corresponding embedding vector.\n",
        "        self.embedding = nn.Embedding(input_size, hidden_size)\n",
        "        self.rnn = nn.LSTM(hidden_size, hidden_size, batch_first=True)\n",
        "        self.fc = nn.Linear(hidden_size, output_size)\n",
        "\n",
        "    def forward(self, x):\n",
        "        embedded = self.embedding(x)\n",
        "        #The RNN layer returns two outputs:\n",
        "        #1- the output tensor containing the output of the RNN at each time step for each sequence in the batch,\n",
        "        #2-the hidden state (_) of the last time step (which is not used in this line, hence the underscore).\n",
        "        output, _ = self.rnn(embedded)\n",
        "        #The RNN's output contains the outputs for every time step,\n",
        "        #but for this task, we're only interested in the output of the last time step because we're predicting the next character after the sequence.\n",
        "        #output[:, -1, :] selects the last time step's output for every sequence in the batch (-1 indexes the last item in Python).\n",
        "        output = self.fc(output[:, -1, :])  # Get the output of the last RNN cell\n",
        "        return output"
      ]
    },
    {
      "cell_type": "code",
      "execution_count": null,
      "metadata": {
        "id": "FKBQ7FyatxpW"
      },
      "outputs": [],
      "source": [
        "# Hyperparameters\n",
        "hidden_size = 100\n",
        "learning_rate = 0.001\n",
        "epochs = 50"
      ]
    },
    {
      "cell_type": "code",
      "execution_count": null,
      "metadata": {
        "id": "0thu2bGnt0tA"
      },
      "outputs": [],
      "source": [
        "# Model, loss, and optimizer\n",
        "model = CharRNN(len(chars), hidden_size, len(chars))\n",
        "criterion = nn.CrossEntropyLoss()\n",
        "optimizer = optim.Adam(model.parameters(), lr=learning_rate)"
      ]
    },
    {
      "cell_type": "code",
      "execution_count": null,
      "metadata": {
        "colab": {
          "base_uri": "https://localhost:8080/"
        },
        "id": "3chkidUDqHCk",
        "outputId": "f436bb74-3e34-417d-907a-fdc9961f7491"
      },
      "outputs": [
        {
          "output_type": "execute_result",
          "data": {
            "text/plain": [
              "93865"
            ]
          },
          "metadata": {},
          "execution_count": 45
        }
      ],
      "source": [
        "#count trainable parameters of the model\n",
        "def count_parameters(model):\n",
        "    return sum(p.numel() for p in model.parameters() if p.requires_grad)\n",
        "\n",
        "count_parameters(model)"
      ]
    },
    {
      "cell_type": "code",
      "execution_count": null,
      "metadata": {
        "id": "gZVR82dQt5CS",
        "colab": {
          "base_uri": "https://localhost:8080/"
        },
        "outputId": "6ed101db-aabe-403e-a0b9-8f168760f959"
      },
      "outputs": [
        {
          "output_type": "stream",
          "name": "stdout",
          "text": [
            "Epoch 1/50, Training Loss: 1.8853, Training Accuracy: 0.4512, Validation Loss: 1.6947, Validation Accuracy: 0.4954\n",
            "Epoch 2/50, Training Loss: 1.6181, Training Accuracy: 0.5173, Validation Loss: 1.5883, Validation Accuracy: 0.5245\n",
            "Epoch 3/50, Training Loss: 1.5474, Training Accuracy: 0.5353, Validation Loss: 1.5448, Validation Accuracy: 0.5356\n",
            "Epoch 4/50, Training Loss: 1.5103, Training Accuracy: 0.5446, Validation Loss: 1.5169, Validation Accuracy: 0.5440\n",
            "Epoch 5/50, Training Loss: 1.4849, Training Accuracy: 0.5503, Validation Loss: 1.4983, Validation Accuracy: 0.5492\n",
            "Epoch 6/50, Training Loss: 1.4665, Training Accuracy: 0.5550, Validation Loss: 1.4889, Validation Accuracy: 0.5515\n",
            "Epoch 7/50, Training Loss: 1.4525, Training Accuracy: 0.5584, Validation Loss: 1.4757, Validation Accuracy: 0.5540\n",
            "Epoch 8/50, Training Loss: 1.4416, Training Accuracy: 0.5614, Validation Loss: 1.4722, Validation Accuracy: 0.5544\n",
            "Epoch 9/50, Training Loss: 1.4321, Training Accuracy: 0.5637, Validation Loss: 1.4610, Validation Accuracy: 0.5569\n",
            "Epoch 10/50, Training Loss: 1.4241, Training Accuracy: 0.5660, Validation Loss: 1.4582, Validation Accuracy: 0.5579\n",
            "Epoch 11/50, Training Loss: 1.4171, Training Accuracy: 0.5677, Validation Loss: 1.4520, Validation Accuracy: 0.5604\n",
            "Epoch 12/50, Training Loss: 1.4111, Training Accuracy: 0.5690, Validation Loss: 1.4493, Validation Accuracy: 0.5603\n",
            "Epoch 13/50, Training Loss: 1.4058, Training Accuracy: 0.5705, Validation Loss: 1.4406, Validation Accuracy: 0.5625\n",
            "Epoch 14/50, Training Loss: 1.4013, Training Accuracy: 0.5715, Validation Loss: 1.4427, Validation Accuracy: 0.5623\n",
            "Epoch 15/50, Training Loss: 1.3970, Training Accuracy: 0.5726, Validation Loss: 1.4367, Validation Accuracy: 0.5639\n",
            "Epoch 16/50, Training Loss: 1.3937, Training Accuracy: 0.5733, Validation Loss: 1.4358, Validation Accuracy: 0.5639\n",
            "Epoch 17/50, Training Loss: 1.3896, Training Accuracy: 0.5741, Validation Loss: 1.4328, Validation Accuracy: 0.5645\n",
            "Epoch 18/50, Training Loss: 1.3866, Training Accuracy: 0.5752, Validation Loss: 1.4325, Validation Accuracy: 0.5654\n",
            "Epoch 19/50, Training Loss: 1.3836, Training Accuracy: 0.5757, Validation Loss: 1.4318, Validation Accuracy: 0.5647\n",
            "Epoch 20/50, Training Loss: 1.3813, Training Accuracy: 0.5766, Validation Loss: 1.4288, Validation Accuracy: 0.5660\n",
            "Epoch 21/50, Training Loss: 1.3782, Training Accuracy: 0.5770, Validation Loss: 1.4255, Validation Accuracy: 0.5664\n",
            "Epoch 22/50, Training Loss: 1.3768, Training Accuracy: 0.5780, Validation Loss: 1.4289, Validation Accuracy: 0.5664\n",
            "Epoch 23/50, Training Loss: 1.3739, Training Accuracy: 0.5783, Validation Loss: 1.4247, Validation Accuracy: 0.5669\n",
            "Epoch 24/50, Training Loss: 1.3717, Training Accuracy: 0.5790, Validation Loss: 1.4245, Validation Accuracy: 0.5673\n",
            "Epoch 25/50, Training Loss: 1.3705, Training Accuracy: 0.5791, Validation Loss: 1.4241, Validation Accuracy: 0.5681\n",
            "Epoch 26/50, Training Loss: 1.3680, Training Accuracy: 0.5802, Validation Loss: 1.4233, Validation Accuracy: 0.5676\n",
            "Epoch 27/50, Training Loss: 1.3668, Training Accuracy: 0.5804, Validation Loss: 1.4193, Validation Accuracy: 0.5691\n",
            "Epoch 28/50, Training Loss: 1.3651, Training Accuracy: 0.5809, Validation Loss: 1.4188, Validation Accuracy: 0.5696\n",
            "Epoch 29/50, Training Loss: 1.3635, Training Accuracy: 0.5807, Validation Loss: 1.4179, Validation Accuracy: 0.5698\n",
            "Epoch 30/50, Training Loss: 1.3620, Training Accuracy: 0.5814, Validation Loss: 1.4191, Validation Accuracy: 0.5700\n",
            "Epoch 31/50, Training Loss: 1.3608, Training Accuracy: 0.5816, Validation Loss: 1.4208, Validation Accuracy: 0.5678\n",
            "Epoch 32/50, Training Loss: 1.3598, Training Accuracy: 0.5821, Validation Loss: 1.4174, Validation Accuracy: 0.5696\n",
            "Epoch 33/50, Training Loss: 1.3585, Training Accuracy: 0.5825, Validation Loss: 1.4153, Validation Accuracy: 0.5699\n",
            "Epoch 34/50, Training Loss: 1.3574, Training Accuracy: 0.5822, Validation Loss: 1.4183, Validation Accuracy: 0.5699\n",
            "Epoch 35/50, Training Loss: 1.3563, Training Accuracy: 0.5829, Validation Loss: 1.4157, Validation Accuracy: 0.5710\n",
            "Epoch 36/50, Training Loss: 1.3552, Training Accuracy: 0.5829, Validation Loss: 1.4140, Validation Accuracy: 0.5707\n",
            "Epoch 37/50, Training Loss: 1.3548, Training Accuracy: 0.5833, Validation Loss: 1.4142, Validation Accuracy: 0.5712\n",
            "Epoch 38/50, Training Loss: 1.3534, Training Accuracy: 0.5836, Validation Loss: 1.4140, Validation Accuracy: 0.5706\n",
            "Epoch 39/50, Training Loss: 1.3527, Training Accuracy: 0.5839, Validation Loss: 1.4153, Validation Accuracy: 0.5703\n",
            "Epoch 40/50, Training Loss: 1.3519, Training Accuracy: 0.5840, Validation Loss: 1.4144, Validation Accuracy: 0.5698\n",
            "Epoch 41/50, Training Loss: 1.3508, Training Accuracy: 0.5844, Validation Loss: 1.4138, Validation Accuracy: 0.5717\n",
            "Epoch 42/50, Training Loss: 1.3497, Training Accuracy: 0.5844, Validation Loss: 1.4138, Validation Accuracy: 0.5704\n",
            "Epoch 43/50, Training Loss: 1.3489, Training Accuracy: 0.5848, Validation Loss: 1.4147, Validation Accuracy: 0.5704\n",
            "Epoch 44/50, Training Loss: 1.3486, Training Accuracy: 0.5849, Validation Loss: 1.4122, Validation Accuracy: 0.5713\n",
            "Epoch 45/50, Training Loss: 1.3479, Training Accuracy: 0.5848, Validation Loss: 1.4140, Validation Accuracy: 0.5708\n",
            "Epoch 46/50, Training Loss: 1.3472, Training Accuracy: 0.5849, Validation Loss: 1.4138, Validation Accuracy: 0.5715\n",
            "Epoch 47/50, Training Loss: 1.3473, Training Accuracy: 0.5853, Validation Loss: 1.4121, Validation Accuracy: 0.5727\n",
            "Epoch 48/50, Training Loss: 1.3457, Training Accuracy: 0.5855, Validation Loss: 1.4123, Validation Accuracy: 0.5714\n",
            "Epoch 49/50, Training Loss: 1.3459, Training Accuracy: 0.5858, Validation Loss: 1.4114, Validation Accuracy: 0.5722\n",
            "Epoch 50/50, Training Loss: 1.3456, Training Accuracy: 0.5857, Validation Loss: 1.4122, Validation Accuracy: 0.5719\n",
            "Training time: 4782.373952388763 seconds\n"
          ]
        }
      ],
      "source": [
        "# Training the model\n",
        "start_time = time.time()\n",
        "for epoch in range(epochs):\n",
        "    model.train()\n",
        "    total_loss = 0\n",
        "    correct = 0\n",
        "    total = 0\n",
        "    for batch_X, batch_y in train_loader:\n",
        "        optimizer.zero_grad()\n",
        "        output = model(batch_X)\n",
        "        loss = criterion(output, batch_y)\n",
        "        loss.backward()\n",
        "        optimizer.step()\n",
        "        total_loss += loss.item()\n",
        "        _, predicted = torch.max(output.data, 1)\n",
        "        total += batch_y.size(0)\n",
        "        correct += (predicted == batch_y).sum().item()\n",
        "    train_accuracy = correct / total\n",
        "    avg_loss = total_loss / len(train_loader)\n",
        "\n",
        "    # Validation\n",
        "    model.eval()\n",
        "    with torch.no_grad():\n",
        "        total_val_loss = 0\n",
        "        correct = 0\n",
        "        total = 0\n",
        "        for batch_X, batch_y in val_loader:\n",
        "            val_output = model(batch_X)\n",
        "            val_loss = criterion(val_output, batch_y)\n",
        "            total_val_loss += val_loss.item()\n",
        "            _, predicted = torch.max(val_output.data, 1)\n",
        "            total += batch_y.size(0)\n",
        "            correct += (predicted == batch_y).sum().item()\n",
        "    val_accuracy = correct / total\n",
        "    avg_val_loss = total_val_loss / len(val_loader)\n",
        "\n",
        "    \"\"\"\n",
        "    if (epoch+1) % 10 == 0:\n",
        "        print(f\"Epoch {epoch+1}/{epochs}, Training Loss: {avg_loss:.4f}, Training Accuracy: {train_accuracy:.4f}, Validation Loss: {avg_val_loss:.4f}, Validation Accuracy: {val_accuracy:.4f}\")\n",
        "    \"\"\"\n",
        "    print(f\"Epoch {epoch+1}/{epochs}, Training Loss: {avg_loss:.4f}, Training Accuracy: {train_accuracy:.4f}, Validation Loss: {avg_val_loss:.4f}, Validation Accuracy: {val_accuracy:.4f}\")\n",
        "\n",
        "end_time = time.time()\n",
        "training_time = end_time - start_time\n",
        "print(f\"Training time: {training_time} seconds\")"
      ]
    },
    {
      "cell_type": "code",
      "execution_count": null,
      "metadata": {
        "id": "5TBIVAxrt77O",
        "colab": {
          "base_uri": "https://localhost:8080/"
        },
        "outputId": "e65a29aa-fbf6-44fc-f2cb-efedd8f40c07"
      },
      "outputs": [
        {
          "output_type": "stream",
          "name": "stdout",
          "text": [
            "FIRST TEST STRING: This is a simple example to demonstrate how to predict the next char..\n",
            "First predicted next character: 'm'\n",
            "\n",
            "SECOND TEST STRING: Long live the quee..\n",
            "Second predicted next character: 'n'\n",
            "\n",
            "THIRD TEST STRING: Be quiet and do not spea..\n",
            "Third predicted next character: 'k'\n",
            "\n"
          ]
        }
      ],
      "source": [
        "# Prediction function\n",
        "def predict_next_char(model, char_to_int, int_to_char, initial_str):\n",
        "    model.eval()\n",
        "    with torch.no_grad():\n",
        "        initial_input = torch.tensor([char_to_int[c] for c in initial_str[-sequence_length:]], dtype=torch.long).unsqueeze(0)\n",
        "        prediction = model(initial_input)\n",
        "        predicted_index = torch.argmax(prediction, dim=1).item()\n",
        "        return int_to_char[predicted_index]\n",
        "\n",
        "# Predicting the first next character\n",
        "test_str = \"This is a simple example to demonstrate how to predict the next char\"\n",
        "predicted_char = predict_next_char(model, char_to_int, int_to_char, test_str)\n",
        "print('FIRST TEST STRING: This is a simple example to demonstrate how to predict the next char..')\n",
        "print(f\"First predicted next character: '{predicted_char}'\")\n",
        "print(\"\")\n",
        "\n",
        "# Predicting the second next character\n",
        "test_str = \"Long live the quee\"\n",
        "predicted_char = predict_next_char(model, char_to_int, int_to_char, test_str)\n",
        "print('SECOND TEST STRING: Long live the quee..')\n",
        "print(f\"Second predicted next character: '{predicted_char}'\")\n",
        "print(\"\")\n",
        "\n",
        "\n",
        "# Predicting the third next character\n",
        "test_str = \"Be quiet and do not spea\"\n",
        "predicted_char = predict_next_char(model, char_to_int, int_to_char, test_str)\n",
        "print('THIRD TEST STRING: Be quiet and do not spea..')\n",
        "print(f\"Third predicted next character: '{predicted_char}'\")\n",
        "print(\"\")"
      ]
    }
  ],
  "metadata": {
    "accelerator": "GPU",
    "colab": {
      "gpuType": "V100",
      "machine_shape": "hm",
      "provenance": [],
      "include_colab_link": true
    },
    "kernelspec": {
      "display_name": "Python 3",
      "name": "python3"
    },
    "language_info": {
      "name": "python"
    }
  },
  "nbformat": 4,
  "nbformat_minor": 0
}