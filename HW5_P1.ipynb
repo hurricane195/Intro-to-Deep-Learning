{
  "nbformat": 4,
  "nbformat_minor": 0,
  "metadata": {
    "colab": {
      "provenance": [],
      "machine_shape": "hm",
      "gpuType": "A100",
      "authorship_tag": "ABX9TyMktyhRr62xcKSsiBbw8jJw",
      "include_colab_link": true
    },
    "kernelspec": {
      "name": "python3",
      "display_name": "Python 3"
    },
    "language_info": {
      "name": "python"
    },
    "accelerator": "GPU"
  },
  "cells": [
    {
      "cell_type": "markdown",
      "metadata": {
        "id": "view-in-github",
        "colab_type": "text"
      },
      "source": [
        "<a href=\"https://colab.research.google.com/github/hurricane195/Intro-to-Deep-Learning/blob/Homework_5/HW5_P1.ipynb\" target=\"_parent\"><img src=\"https://colab.research.google.com/assets/colab-badge.svg\" alt=\"Open In Colab\"/></a>"
      ]
    },
    {
      "cell_type": "markdown",
      "source": [
        "Problem 1: In this problem, similar to homework 3 problem 1, we focus on the language model we did in the lectures. However, we expand it to a much longer sequence. Here is the sequence:\n",
        "\n",
        "“Next character prediction is a fundamental task in the field of natural language processing (NLP) that involves predicting the next character in a sequence of text based on the characters that precede it. This task is essential for various applications, including text auto-completion, spell checking, and even in the development of sophisticated AI models capable of generating human-like text.\n",
        "\n",
        "At its core, next character prediction relies on statistical models or deep learning algorithms to analyze a given sequence of text and predict which character is most likely to follow. These predictions are based on patterns and relationships learned from large datasets of text during the training phase of the model.\n",
        "\n",
        "One of the most popular approaches to next character prediction involves the use of Recurrent Neural Networks (RNNs), and more specifically, a variant called Long Short-Term Memory (LSTM) networks. RNNs are particularly well-suited for sequential data like text, as they can maintain information in 'memory' about previous characters to inform the prediction of the next character. LSTM networks enhance this capability by being able to remember long-term dependencies, making them even more effective for next character prediction tasks.\n",
        "\n",
        "Training a model for next character prediction involves feeding it large amounts of text data, allowing it to learn the probability of each character's appearance following a sequence of characters. During this training process, the model adjusts its parameters to minimize the difference between its predictions and the actual outcomes, thus improving its predictive accuracy over time.\n",
        "\n",
        "Once trained, the model can be used to predict the next character in a given piece of text by considering the sequence of characters that precede it. This can enhance user experience in text editing software, improve efficiency in coding environments with auto-completion features, and enable more natural interactions with AI-based chatbots and virtual assistants.\n",
        "\n",
        "In summary, next character prediction plays a crucial role in enhancing the capabilities of various NLP applications, making text-based interactions more efficient, accurate, and human-like. Through the use of advanced machine learning models like RNNs and LSTMs, next character prediction continues to evolve, opening new possibilities for the future of text-based technology.”\n",
        "\n",
        "Inspired by the course example, **train and validate a transformer mode, for learning the above sequence. Use sequence lengths of 10, 20, and 30 for your training. Feel free to adjust other network parameters. Report and compare training loss, validation accuracy, execution time for training, and computational and mode size complexities against RNN-based approaches in Homework 3**."
      ],
      "metadata": {
        "id": "E3e7V4UuviCz"
      }
    },
    {
      "cell_type": "code",
      "source": [
        "#Using a modided example of Dr. Tabkhi's \"RNN\" available at https://github.com/HamedTabkhi/Intro-to-DL/blob/main/RNN.py\n",
        "#Using a modided example of Dr. Tabkhi's \"RNN-CharDataset\" available at https://github.com/HamedTabkhi/Intro-to-DL/blob/main/RNN-CharDataset.py\n",
        "#Using a modided example of Dr. Tabkhi's \"transformer_encoder_nextcharactor\" available at https://github.com/HamedTabkhi/Intro-to-DL/blob/main/transformer_encoder_nextcharactor.py\n",
        "#Random help from Chat GPT on formatting, sytntax, etc.\n",
        "#Random help from Chat Colab AI on formatting, sytntax, etc."
      ],
      "metadata": {
        "id": "sDS7a7hxuqkM"
      },
      "execution_count": null,
      "outputs": []
    },
    {
      "cell_type": "code",
      "execution_count": null,
      "metadata": {
        "id": "QsIqPri1TA1l"
      },
      "outputs": [],
      "source": [
        "import torch\n",
        "import torch.nn as nn\n",
        "import torch.optim as optim\n",
        "import numpy as np\n",
        "from sklearn.model_selection import train_test_split\n",
        "import time"
      ]
    },
    {
      "cell_type": "code",
      "source": [
        "# Check for CUDA support and set the device accordingly\n",
        "device = torch.device(\"cuda\" if torch.cuda.is_available() else \"cpu\")\n",
        "device"
      ],
      "metadata": {
        "id": "SYc63dR3xmLe",
        "colab": {
          "base_uri": "https://localhost:8080/"
        },
        "outputId": "ca8416c6-d04c-4430-a84a-f0578437aa51"
      },
      "execution_count": null,
      "outputs": [
        {
          "output_type": "execute_result",
          "data": {
            "text/plain": [
              "device(type='cuda')"
            ]
          },
          "metadata": {},
          "execution_count": 3
        }
      ]
    },
    {
      "cell_type": "code",
      "source": [
        "# Sample text\n",
        "text = \"Next character prediction is a fundamental task in the field of natural language processing (NLP) that involves predicting the next character in a sequence of text based on the characters that precede it. This task is essential for various applications, including text auto-completion, spell checking, and even in the development of sophisticated AI models capable of generating human-like text. At its core, next character prediction relies on statistical models or deep learning algorithms to analyze a given sequence of text and predict which character is most likely to follow. These predictions are based on patterns and relationships learned from large datasets of text during the training phase of the model. One of the most popular approaches to next character prediction involves the use of Recurrent Neural Networks (RNNs), and more specifically, a variant called Long Short-Term Memory (LSTM) networks. RNNs are particularly well-suited for sequential data like text, as they can maintain information in 'memory' about previous characters to inform the prediction of the next character. LSTM networks enhance this capability by being able to remember long-term dependencies, making them even more effective for next character prediction tasks. Training a model for next character prediction involves feeding it large amounts of text data, allowing it to learn the probability of each character's appearance following a sequence of characters. During this training process, the model adjusts its parameters to minimize the difference between its predictions and the actual outcomes, thus improving its predictive accuracy over time. Once trained, the model can be used to predict the next character in a given piece of text by considering the sequence of characters that precede it. This can enhance user experience in text editing software, improve efficiency in coding environments with auto-completion features, and enable more natural interactions with AI-based chatbots and virtual assistants. In summary, next character prediction plays a crucial role in enhancing the capabilities of various NLP applications, making text-based interactions more efficient, accurate, and human-like. Through the use of advanced machine learning models like RNNs and LSTMs, next character prediction continues to evolve, opening new possibilities for the future of text-based technology.\"\n",
        "# Creating character vocabulary\n",
        "# part of the data preprocessing step for a character-level text modeling task.\n",
        "# Create mappings between characters in the text and numerical indices\n",
        "\n",
        "#set(text): Creates a set of unique characters found in the text. The set function removes any duplicate characters.\n",
        "#list(set(text)): Converts the set back into a list so that it can be sorted.\n",
        "# sorted(list(set(text))): Sorts the list of unique characters.\n",
        "chars = sorted(list(set(text)))\n",
        "#This line creates a dictionary that maps each character to a unique index (integer).\"\n",
        "ix_to_char = {i: ch for i, ch in enumerate(chars)}\n",
        "#Similar to the previous line, but in reverse. This line creates a dictionary that maps each unique index (integer) back to its corresponding character.\n",
        "char_to_ix = {ch: i for i, ch in enumerate(chars)}\n",
        "chars = sorted(list(set(text)))"
      ],
      "metadata": {
        "id": "6n-qXq2JTKSu"
      },
      "execution_count": null,
      "outputs": []
    },
    {
      "cell_type": "markdown",
      "source": [
        "**MAXIMUM LENGTH OF INPUT SECQUENCES = 10**\n",
        "\n",
        "---\n",
        "\n"
      ],
      "metadata": {
        "id": "geoepBjXvURF"
      }
    },
    {
      "cell_type": "code",
      "source": [
        "# Preparing the dataset\n",
        "max_length = 10  # Maximum length of input sequences\n",
        "X = []\n",
        "y = []\n",
        "for i in range(len(text) - max_length):\n",
        "    sequence = text[i:i + max_length]\n",
        "    label = text[i + max_length]\n",
        "    X.append([char_to_ix[char] for char in sequence])\n",
        "    y.append(char_to_ix[label])\n",
        "\n",
        "X = np.array(X)\n",
        "y = np.array(y)"
      ],
      "metadata": {
        "id": "UPWf78cSTVWo"
      },
      "execution_count": null,
      "outputs": []
    },
    {
      "cell_type": "code",
      "source": [
        "# Splitting the dataset into training and validation sets\n",
        "X_train, X_val, y_train, y_val = train_test_split(X, y, test_size=0.2, random_state=42)"
      ],
      "metadata": {
        "id": "R_6TR44dTbJP"
      },
      "execution_count": null,
      "outputs": []
    },
    {
      "cell_type": "code",
      "source": [
        "# Converting data to PyTorch tensors\n",
        "X_train = torch.tensor(X_train, dtype=torch.long)\n",
        "y_train = torch.tensor(y_train, dtype=torch.long)\n",
        "X_val = torch.tensor(X_val, dtype=torch.long)\n",
        "y_val = torch.tensor(y_val, dtype=torch.long)"
      ],
      "metadata": {
        "id": "c1kZYE3gTdKn"
      },
      "execution_count": null,
      "outputs": []
    },
    {
      "cell_type": "code",
      "source": [
        "# Defining the Transformer model\n",
        "class CharTransformer(nn.Module):\n",
        "    def __init__(self, input_size, hidden_size, output_size, num_layers, nhead):\n",
        "        super(CharTransformer, self).__init__()\n",
        "        self.embedding = nn.Embedding(input_size, hidden_size)\n",
        "        encoder_layers = nn.TransformerEncoderLayer(hidden_size, nhead)\n",
        "        self.transformer_encoder = nn.TransformerEncoder(encoder_layers, num_layers)\n",
        "        self.fc = nn.Linear(hidden_size, output_size)\n",
        "\n",
        "    def forward(self, x):\n",
        "        embedded = self.embedding(x)\n",
        "        transformer_output = self.transformer_encoder(embedded)\n",
        "        output = self.fc(transformer_output[:, -1, :])  # Get the output of the last Transformer block\n",
        "        return output"
      ],
      "metadata": {
        "id": "37fojvqSTe_7"
      },
      "execution_count": null,
      "outputs": []
    },
    {
      "cell_type": "code",
      "source": [
        "# Hyperparameters\n",
        "hidden_size = 120\n",
        "num_layers = 3\n",
        "nhead = 2\n",
        "learning_rate = 0.001\n",
        "epochs = 100"
      ],
      "metadata": {
        "id": "td4AGgC2TiHl"
      },
      "execution_count": null,
      "outputs": []
    },
    {
      "cell_type": "code",
      "source": [
        "# Model, loss, and optimizer\n",
        "model = CharTransformer(len(chars), hidden_size, len(chars), num_layers, nhead)\n",
        "criterion = nn.CrossEntropyLoss()\n",
        "optimizer = optim.Adam(model.parameters(), lr=learning_rate)"
      ],
      "metadata": {
        "id": "08mM2r-QTkFT",
        "colab": {
          "base_uri": "https://localhost:8080/"
        },
        "outputId": "506595da-4782-4406-f238-6713633b1ec9"
      },
      "execution_count": null,
      "outputs": [
        {
          "output_type": "stream",
          "name": "stderr",
          "text": [
            "/usr/local/lib/python3.10/dist-packages/torch/nn/modules/transformer.py:286: UserWarning: enable_nested_tensor is True, but self.use_nested_tensor is False because encoder_layer.self_attn.batch_first was not True(use batch_first for better inference performance)\n",
            "  warnings.warn(f\"enable_nested_tensor is True, but self.use_nested_tensor is False because {why_not_sparsity_fast_path}\")\n"
          ]
        }
      ]
    },
    {
      "cell_type": "code",
      "source": [
        "#count trainable parameters of the model\n",
        "def count_parameters(model):\n",
        "    return sum(p.numel() for p in model.parameters() if p.requires_grad)\n",
        "\n",
        "count_parameters(model)"
      ],
      "metadata": {
        "id": "LWyXIjpDqOP8",
        "colab": {
          "base_uri": "https://localhost:8080/"
        },
        "outputId": "cc8594d8-79bf-4c46-9537-77f16ebe2aaf"
      },
      "execution_count": null,
      "outputs": [
        {
          "output_type": "execute_result",
          "data": {
            "text/plain": [
              "1667348"
            ]
          },
          "metadata": {},
          "execution_count": 11
        }
      ]
    },
    {
      "cell_type": "code",
      "source": [
        "# Training the model\n",
        "start_time = time.time()\n",
        "for epoch in range(epochs):\n",
        "    model.train()\n",
        "    optimizer.zero_grad()\n",
        "    output = model(X_train)\n",
        "    loss = criterion(output, y_train)\n",
        "    loss.backward()\n",
        "    optimizer.step()\n",
        "\n",
        "    # Training accuracy\n",
        "    with torch.no_grad():\n",
        "        _, predicted_train = torch.max(output, 1)\n",
        "        train_accuracy = (predicted_train == y_train).float().mean()\n",
        "\n",
        "    # Validation\n",
        "    model.eval()\n",
        "    with torch.no_grad():\n",
        "        val_output = model(X_val)\n",
        "        val_loss = criterion(val_output, y_val)\n",
        "        _, predicted_val = torch.max(val_output, 1)\n",
        "        val_accuracy = (predicted_val == y_val).float().mean()\n",
        "\n",
        "    if (epoch+1) % 10 == 0:\n",
        "        print(f'Epoch {epoch+1}, Training Loss: {loss.item():.4f}, Training Accuracy: {train_accuracy.item():.4f}, Validation Loss: {val_loss.item():.4f}, Validation Accuracy: {val_accuracy.item():.4f}')\n",
        "\n",
        "end_time = time.time()\n",
        "training_time = end_time - start_time\n",
        "print(f\"Training time: {training_time} seconds\")"
      ],
      "metadata": {
        "id": "gqpBZgkwUXuf",
        "colab": {
          "base_uri": "https://localhost:8080/"
        },
        "outputId": "22e2a640-ba9d-4bbd-bfed-26e1698227b6"
      },
      "execution_count": null,
      "outputs": [
        {
          "output_type": "stream",
          "name": "stdout",
          "text": [
            "Epoch 10, Training Loss: 2.5545, Training Accuracy: 0.2679, Validation Loss: 2.5211, Validation Accuracy: 0.2836\n",
            "Epoch 20, Training Loss: 2.3817, Training Accuracy: 0.2674, Validation Loss: 2.4009, Validation Accuracy: 0.2878\n",
            "Epoch 30, Training Loss: 2.2987, Training Accuracy: 0.2821, Validation Loss: 2.3347, Validation Accuracy: 0.2920\n",
            "Epoch 40, Training Loss: 2.2609, Training Accuracy: 0.2805, Validation Loss: 2.3274, Validation Accuracy: 0.2962\n",
            "Epoch 50, Training Loss: 2.2384, Training Accuracy: 0.2826, Validation Loss: 2.3164, Validation Accuracy: 0.2962\n",
            "Epoch 60, Training Loss: 2.2282, Training Accuracy: 0.2832, Validation Loss: 2.3187, Validation Accuracy: 0.2878\n",
            "Epoch 70, Training Loss: 2.2151, Training Accuracy: 0.2795, Validation Loss: 2.3143, Validation Accuracy: 0.2878\n",
            "Epoch 80, Training Loss: 2.2096, Training Accuracy: 0.2842, Validation Loss: 2.3178, Validation Accuracy: 0.2920\n",
            "Epoch 90, Training Loss: 2.2093, Training Accuracy: 0.2853, Validation Loss: 2.3161, Validation Accuracy: 0.2899\n",
            "Epoch 100, Training Loss: 2.2114, Training Accuracy: 0.2684, Validation Loss: 2.3160, Validation Accuracy: 0.2920\n",
            "Training time: 316.0224266052246 seconds\n"
          ]
        }
      ]
    },
    {
      "cell_type": "code",
      "source": [
        "# Prediction function\n",
        "def predict_next_char(model, char_to_ix, ix_to_char, initial_str):\n",
        "    model.eval()\n",
        "    with torch.no_grad():\n",
        "        initial_input = torch.tensor([char_to_ix[c] for c in initial_str[-max_length:]], dtype=torch.long).unsqueeze(0)\n",
        "        prediction = model(initial_input)\n",
        "        predicted_index = torch.argmax(prediction, dim=1).item()\n",
        "        return ix_to_char[predicted_index]\n",
        "\n",
        "# Predicting the next character\n",
        "test_str = \"This is a simple example to demonstrate how to predict the next char\"\n",
        "predicted_char = predict_next_char(model, char_to_ix, ix_to_char, test_str)\n",
        "print(f\"Predicted next character: '{predicted_char}'\")"
      ],
      "metadata": {
        "id": "1tb1RaHkUa70",
        "colab": {
          "base_uri": "https://localhost:8080/"
        },
        "outputId": "d676b775-41b4-4251-fa3d-8bc0d18aa94f"
      },
      "execution_count": null,
      "outputs": [
        {
          "output_type": "stream",
          "name": "stdout",
          "text": [
            "Predicted next character: 'e'\n"
          ]
        }
      ]
    },
    {
      "cell_type": "markdown",
      "source": [
        "**MAXIMUM LENGTH OF INPUT SECQUENCES = 20**"
      ],
      "metadata": {
        "id": "Er6jlhU9v0s8"
      }
    },
    {
      "cell_type": "code",
      "source": [
        "# Preparing the dataset\n",
        "max_length = 20  # Maximum length of input sequences\n",
        "X = []\n",
        "y = []\n",
        "for i in range(len(text) - max_length):\n",
        "    sequence = text[i:i + max_length]\n",
        "    label = text[i + max_length]\n",
        "    X.append([char_to_ix[char] for char in sequence])\n",
        "    y.append(char_to_ix[label])\n",
        "\n",
        "X = np.array(X)\n",
        "y = np.array(y)"
      ],
      "metadata": {
        "id": "k5QVdD9qv8cb"
      },
      "execution_count": null,
      "outputs": []
    },
    {
      "cell_type": "code",
      "source": [
        "# Splitting the dataset into training and validation sets\n",
        "X_train, X_val, y_train, y_val = train_test_split(X, y, test_size=0.2, random_state=42)"
      ],
      "metadata": {
        "id": "tkzbCB04wAQ5"
      },
      "execution_count": null,
      "outputs": []
    },
    {
      "cell_type": "code",
      "source": [
        "# Converting data to PyTorch tensors\n",
        "X_train = torch.tensor(X_train, dtype=torch.long)\n",
        "y_train = torch.tensor(y_train, dtype=torch.long)\n",
        "X_val = torch.tensor(X_val, dtype=torch.long)\n",
        "y_val = torch.tensor(y_val, dtype=torch.long)"
      ],
      "metadata": {
        "id": "RWWGFbjlwD8X"
      },
      "execution_count": null,
      "outputs": []
    },
    {
      "cell_type": "code",
      "source": [
        "# Defining the Transformer model\n",
        "class CharTransformer(nn.Module):\n",
        "    def __init__(self, input_size, hidden_size, output_size, num_layers, nhead):\n",
        "        super(CharTransformer, self).__init__()\n",
        "        self.embedding = nn.Embedding(input_size, hidden_size)\n",
        "        encoder_layers = nn.TransformerEncoderLayer(hidden_size, nhead)\n",
        "        self.transformer_encoder = nn.TransformerEncoder(encoder_layers, num_layers)\n",
        "        self.fc = nn.Linear(hidden_size, output_size)\n",
        "\n",
        "    def forward(self, x):\n",
        "        embedded = self.embedding(x)\n",
        "        transformer_output = self.transformer_encoder(embedded)\n",
        "        output = self.fc(transformer_output[:, -1, :])  # Get the output of the last Transformer block\n",
        "        return output"
      ],
      "metadata": {
        "id": "zFl8uMW6wH2F"
      },
      "execution_count": null,
      "outputs": []
    },
    {
      "cell_type": "code",
      "source": [
        "# Hyperparameters\n",
        "hidden_size = 120\n",
        "num_layers = 3\n",
        "nhead = 2\n",
        "learning_rate = 0.001\n",
        "epochs = 100"
      ],
      "metadata": {
        "id": "kqw6WPaLwQXJ"
      },
      "execution_count": null,
      "outputs": []
    },
    {
      "cell_type": "code",
      "source": [
        "# Model, loss, and optimizer\n",
        "model = CharTransformer(len(chars), hidden_size, len(chars), num_layers, nhead)\n",
        "criterion = nn.CrossEntropyLoss()\n",
        "optimizer = optim.Adam(model.parameters(), lr=learning_rate)"
      ],
      "metadata": {
        "id": "Ei1IO9iIwTnJ",
        "colab": {
          "base_uri": "https://localhost:8080/"
        },
        "outputId": "0cd709fd-570b-4572-967c-0c4fe8b00fa3"
      },
      "execution_count": null,
      "outputs": [
        {
          "output_type": "stream",
          "name": "stderr",
          "text": [
            "/usr/local/lib/python3.10/dist-packages/torch/nn/modules/transformer.py:286: UserWarning: enable_nested_tensor is True, but self.use_nested_tensor is False because encoder_layer.self_attn.batch_first was not True(use batch_first for better inference performance)\n",
            "  warnings.warn(f\"enable_nested_tensor is True, but self.use_nested_tensor is False because {why_not_sparsity_fast_path}\")\n"
          ]
        }
      ]
    },
    {
      "cell_type": "code",
      "source": [
        "#count trainable parameters of the model\n",
        "def count_parameters(model):\n",
        "    return sum(p.numel() for p in model.parameters() if p.requires_grad)\n",
        "\n",
        "count_parameters(model)"
      ],
      "metadata": {
        "id": "leS56d0wqRxR",
        "colab": {
          "base_uri": "https://localhost:8080/"
        },
        "outputId": "6cfe9987-cf79-4d52-e853-ca81479d3be7"
      },
      "execution_count": null,
      "outputs": [
        {
          "output_type": "execute_result",
          "data": {
            "text/plain": [
              "1667348"
            ]
          },
          "metadata": {},
          "execution_count": 20
        }
      ]
    },
    {
      "cell_type": "code",
      "source": [
        "# Training the model\n",
        "start_time = time.time()\n",
        "for epoch in range(epochs):\n",
        "    model.train()\n",
        "    optimizer.zero_grad()\n",
        "    output = model(X_train)\n",
        "    loss = criterion(output, y_train)\n",
        "    loss.backward()\n",
        "    optimizer.step()\n",
        "\n",
        "    # Training accuracy\n",
        "    with torch.no_grad():\n",
        "        _, predicted_train = torch.max(output, 1)\n",
        "        train_accuracy = (predicted_train == y_train).float().mean()\n",
        "\n",
        "    # Validation\n",
        "    model.eval()\n",
        "    with torch.no_grad():\n",
        "        val_output = model(X_val)\n",
        "        val_loss = criterion(val_output, y_val)\n",
        "        _, predicted_val = torch.max(val_output, 1)\n",
        "        val_accuracy = (predicted_val == y_val).float().mean()\n",
        "\n",
        "    if (epoch+1) % 10 == 0:\n",
        "        print(f'Epoch {epoch+1}, Training Loss: {loss.item():.4f}, Training Accuracy: {train_accuracy.item():.4f}, Validation Loss: {val_loss.item():.4f}, Validation Accuracy: {val_accuracy.item():.4f}')\n",
        "\n",
        "end_time = time.time()\n",
        "training_time = end_time - start_time\n",
        "print(f\"Training time: {training_time} seconds\")"
      ],
      "metadata": {
        "colab": {
          "base_uri": "https://localhost:8080/"
        },
        "id": "ykxNe0k3wcmv",
        "outputId": "28827c78-5308-4367-9420-cb0fcade0a93"
      },
      "execution_count": null,
      "outputs": [
        {
          "output_type": "stream",
          "name": "stdout",
          "text": [
            "Epoch 10, Training Loss: 2.6529, Training Accuracy: 0.2611, Validation Loss: 2.6204, Validation Accuracy: 0.2426\n",
            "Epoch 20, Training Loss: 2.4279, Training Accuracy: 0.2685, Validation Loss: 2.4677, Validation Accuracy: 0.2785\n",
            "Epoch 30, Training Loss: 2.3206, Training Accuracy: 0.2748, Validation Loss: 2.4138, Validation Accuracy: 0.2511\n",
            "Epoch 40, Training Loss: 2.2675, Training Accuracy: 0.2807, Validation Loss: 2.3698, Validation Accuracy: 0.2637\n",
            "Epoch 50, Training Loss: 2.2378, Training Accuracy: 0.2918, Validation Loss: 2.3578, Validation Accuracy: 0.2743\n",
            "Epoch 60, Training Loss: 2.2242, Training Accuracy: 0.2801, Validation Loss: 2.3555, Validation Accuracy: 0.2827\n",
            "Epoch 70, Training Loss: 2.2210, Training Accuracy: 0.2849, Validation Loss: 2.3646, Validation Accuracy: 0.2848\n",
            "Epoch 80, Training Loss: 2.2077, Training Accuracy: 0.2854, Validation Loss: 2.3673, Validation Accuracy: 0.2848\n",
            "Epoch 90, Training Loss: 2.2064, Training Accuracy: 0.2902, Validation Loss: 2.3741, Validation Accuracy: 0.2764\n",
            "Epoch 100, Training Loss: 2.2019, Training Accuracy: 0.2854, Validation Loss: 2.3750, Validation Accuracy: 0.2848\n",
            "Training time: 600.8600835800171 seconds\n"
          ]
        }
      ]
    },
    {
      "cell_type": "code",
      "source": [
        "# Prediction function\n",
        "def predict_next_char(model, char_to_ix, ix_to_char, initial_str):\n",
        "    model.eval()\n",
        "    with torch.no_grad():\n",
        "        initial_input = torch.tensor([char_to_ix[c] for c in initial_str[-max_length:]], dtype=torch.long).unsqueeze(0)\n",
        "        prediction = model(initial_input)\n",
        "        predicted_index = torch.argmax(prediction, dim=1).item()\n",
        "        return ix_to_char[predicted_index]\n",
        "\n",
        "# Predicting the next character\n",
        "test_str = \"This is a simple example to demonstrate how to predict the next char\"\n",
        "predicted_char = predict_next_char(model, char_to_ix, ix_to_char, test_str)\n",
        "print(f\"Predicted next character: '{predicted_char}'\")"
      ],
      "metadata": {
        "colab": {
          "base_uri": "https://localhost:8080/"
        },
        "id": "jONuVlPFwdeT",
        "outputId": "33145061-6916-408d-9c54-1e14f49d9bff"
      },
      "execution_count": null,
      "outputs": [
        {
          "output_type": "stream",
          "name": "stdout",
          "text": [
            "Predicted next character: 'a'\n"
          ]
        }
      ]
    },
    {
      "cell_type": "markdown",
      "source": [
        "**MAXIMUM LENGTH OF INPUT SECQUENCES = 30**"
      ],
      "metadata": {
        "id": "HzVQ6p7Uwh9M"
      }
    },
    {
      "cell_type": "code",
      "source": [
        "# Preparing the dataset\n",
        "max_length = 30  # Maximum length of input sequences\n",
        "X = []\n",
        "y = []\n",
        "for i in range(len(text) - max_length):\n",
        "    sequence = text[i:i + max_length]\n",
        "    label = text[i + max_length]\n",
        "    X.append([char_to_ix[char] for char in sequence])\n",
        "    y.append(char_to_ix[label])\n",
        "\n",
        "X = np.array(X)\n",
        "y = np.array(y)"
      ],
      "metadata": {
        "id": "-ZC6clLxwmwZ"
      },
      "execution_count": null,
      "outputs": []
    },
    {
      "cell_type": "code",
      "source": [
        "# Splitting the dataset into training and validation sets\n",
        "X_train, X_val, y_train, y_val = train_test_split(X, y, test_size=0.2, random_state=42)"
      ],
      "metadata": {
        "id": "o1DOXm1vwwZF"
      },
      "execution_count": null,
      "outputs": []
    },
    {
      "cell_type": "code",
      "source": [
        "# Converting data to PyTorch tensors\n",
        "X_train = torch.tensor(X_train, dtype=torch.long)\n",
        "y_train = torch.tensor(y_train, dtype=torch.long)\n",
        "X_val = torch.tensor(X_val, dtype=torch.long)\n",
        "y_val = torch.tensor(y_val, dtype=torch.long)"
      ],
      "metadata": {
        "id": "cRtdeDM1wxZw"
      },
      "execution_count": null,
      "outputs": []
    },
    {
      "cell_type": "code",
      "source": [
        "# Defining the Transformer model\n",
        "class CharTransformer(nn.Module):\n",
        "    def __init__(self, input_size, hidden_size, output_size, num_layers, nhead):\n",
        "        super(CharTransformer, self).__init__()\n",
        "        self.embedding = nn.Embedding(input_size, hidden_size)\n",
        "        encoder_layers = nn.TransformerEncoderLayer(hidden_size, nhead)\n",
        "        self.transformer_encoder = nn.TransformerEncoder(encoder_layers, num_layers)\n",
        "        self.fc = nn.Linear(hidden_size, output_size)\n",
        "\n",
        "    def forward(self, x):\n",
        "        embedded = self.embedding(x)\n",
        "        transformer_output = self.transformer_encoder(embedded)\n",
        "        output = self.fc(transformer_output[:, -1, :])  # Get the output of the last Transformer block\n",
        "        return output"
      ],
      "metadata": {
        "id": "dQY2Xnffw0OU"
      },
      "execution_count": null,
      "outputs": []
    },
    {
      "cell_type": "code",
      "source": [
        "# Hyperparameters\n",
        "hidden_size = 120\n",
        "num_layers = 3\n",
        "nhead = 2\n",
        "learning_rate = 0.001\n",
        "epochs = 100"
      ],
      "metadata": {
        "id": "T-EmWOC9w3PQ"
      },
      "execution_count": null,
      "outputs": []
    },
    {
      "cell_type": "code",
      "source": [
        "# Model, loss, and optimizer\n",
        "model = CharTransformer(len(chars), hidden_size, len(chars), num_layers, nhead)\n",
        "criterion = nn.CrossEntropyLoss()\n",
        "optimizer = optim.Adam(model.parameters(), lr=learning_rate)"
      ],
      "metadata": {
        "id": "Dhm3fz4-w6IY"
      },
      "execution_count": null,
      "outputs": []
    },
    {
      "cell_type": "code",
      "source": [
        "#count trainable parameters of the model\n",
        "def count_parameters(model):\n",
        "    return sum(p.numel() for p in model.parameters() if p.requires_grad)\n",
        "\n",
        "count_parameters(model)"
      ],
      "metadata": {
        "colab": {
          "base_uri": "https://localhost:8080/"
        },
        "id": "AWOVm2mZRjw7",
        "outputId": "b823dc1b-16e1-4b5d-b8cc-48b63e62f096"
      },
      "execution_count": null,
      "outputs": [
        {
          "output_type": "execute_result",
          "data": {
            "text/plain": [
              "1667348"
            ]
          },
          "metadata": {},
          "execution_count": 29
        }
      ]
    },
    {
      "cell_type": "code",
      "source": [
        "# Training the model\n",
        "start_time = time.time()\n",
        "for epoch in range(epochs):\n",
        "    model.train()\n",
        "    optimizer.zero_grad()\n",
        "    output = model(X_train)\n",
        "    loss = criterion(output, y_train)\n",
        "    loss.backward()\n",
        "    optimizer.step()\n",
        "\n",
        "    # Training accuracy\n",
        "    with torch.no_grad():\n",
        "        _, predicted_train = torch.max(output, 1)\n",
        "        train_accuracy = (predicted_train == y_train).float().mean()\n",
        "\n",
        "    # Validation\n",
        "    model.eval()\n",
        "    with torch.no_grad():\n",
        "        val_output = model(X_val)\n",
        "        val_loss = criterion(val_output, y_val)\n",
        "        _, predicted_val = torch.max(val_output, 1)\n",
        "        val_accuracy = (predicted_val == y_val).float().mean()\n",
        "\n",
        "    if (epoch+1) % 10 == 0:\n",
        "        print(f'Epoch {epoch+1}, Training Loss: {loss.item():.4f}, Training Accuracy: {train_accuracy.item():.4f}, Validation Loss: {val_loss.item():.4f}, Validation Accuracy: {val_accuracy.item():.4f}')\n",
        "\n",
        "end_time = time.time()\n",
        "training_time = end_time - start_time\n",
        "print(f\"Training time: {training_time} seconds\")"
      ],
      "metadata": {
        "colab": {
          "base_uri": "https://localhost:8080/"
        },
        "id": "jRbE2ykQw_kp",
        "outputId": "418a0c5e-a27b-4d11-d7ff-45f6809435bf"
      },
      "execution_count": null,
      "outputs": [
        {
          "output_type": "stream",
          "name": "stdout",
          "text": [
            "Epoch 10, Training Loss: 2.6614, Training Accuracy: 0.2627, Validation Loss: 2.6663, Validation Accuracy: 0.2521\n",
            "Epoch 20, Training Loss: 2.4267, Training Accuracy: 0.2792, Validation Loss: 2.5325, Validation Accuracy: 0.2331\n",
            "Epoch 30, Training Loss: 2.3246, Training Accuracy: 0.2728, Validation Loss: 2.4597, Validation Accuracy: 0.2331\n",
            "Epoch 40, Training Loss: 2.2603, Training Accuracy: 0.2813, Validation Loss: 2.4243, Validation Accuracy: 0.2458\n",
            "Epoch 50, Training Loss: 2.2335, Training Accuracy: 0.2925, Validation Loss: 2.4265, Validation Accuracy: 0.2500\n",
            "Epoch 60, Training Loss: 2.2186, Training Accuracy: 0.2919, Validation Loss: 2.4331, Validation Accuracy: 0.2415\n",
            "Epoch 70, Training Loss: 2.2126, Training Accuracy: 0.2983, Validation Loss: 2.4369, Validation Accuracy: 0.2436\n",
            "Epoch 80, Training Loss: 2.2022, Training Accuracy: 0.2856, Validation Loss: 2.4384, Validation Accuracy: 0.2458\n",
            "Epoch 90, Training Loss: 2.1975, Training Accuracy: 0.2866, Validation Loss: 2.4393, Validation Accuracy: 0.2479\n",
            "Epoch 100, Training Loss: 2.1991, Training Accuracy: 0.2776, Validation Loss: 2.4415, Validation Accuracy: 0.2415\n",
            "Training time: 880.5175669193268 seconds\n"
          ]
        }
      ]
    },
    {
      "cell_type": "code",
      "source": [
        "# Prediction function\n",
        "def predict_next_char(model, char_to_ix, ix_to_char, initial_str):\n",
        "    model.eval()\n",
        "    with torch.no_grad():\n",
        "        initial_input = torch.tensor([char_to_ix[c] for c in initial_str[-max_length:]], dtype=torch.long).unsqueeze(0)\n",
        "        prediction = model(initial_input)\n",
        "        predicted_index = torch.argmax(prediction, dim=1).item()\n",
        "        return ix_to_char[predicted_index]\n",
        "\n",
        "# Predicting the next character\n",
        "test_str = \"This is a simple example to demonstrate how to predict the next char\"\n",
        "predicted_char = predict_next_char(model, char_to_ix, ix_to_char, test_str)\n",
        "print(f\"Predicted next character: '{predicted_char}'\")"
      ],
      "metadata": {
        "colab": {
          "base_uri": "https://localhost:8080/"
        },
        "id": "xX477lmKxCW_",
        "outputId": "93a67f79-a5c1-4971-8903-d0cee5448245"
      },
      "execution_count": null,
      "outputs": [
        {
          "output_type": "stream",
          "name": "stdout",
          "text": [
            "Predicted next character: 'a'\n"
          ]
        }
      ]
    }
  ]
}