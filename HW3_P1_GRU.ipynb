{
  "nbformat": 4,
  "nbformat_minor": 0,
  "metadata": {
    "colab": {
      "provenance": [],
      "gpuType": "T4",
      "authorship_tag": "ABX9TyMYqDk2ykuJ+qXRqV7I/70n",
      "include_colab_link": true
    },
    "kernelspec": {
      "name": "python3",
      "display_name": "Python 3"
    },
    "language_info": {
      "name": "python"
    },
    "accelerator": "GPU"
  },
  "cells": [
    {
      "cell_type": "markdown",
      "metadata": {
        "id": "view-in-github",
        "colab_type": "text"
      },
      "source": [
        "<a href=\"https://colab.research.google.com/github/hurricane195/Intro-to-Deep-Learning/blob/Homework_3/HW3_P1_GRU.ipynb\" target=\"_parent\"><img src=\"https://colab.research.google.com/assets/colab-badge.svg\" alt=\"Open In Colab\"/></a>"
      ]
    },
    {
      "cell_type": "markdown",
      "source": [
        "In this homework, we focus on the language model we did in the lectures. However, we expand it to the much longer sequence. Here is the sequence:\n",
        "\n",
        "“Next character prediction is a fundamental task in the field of natural language processing (NLP) that involves predicting the next character in a sequence of text based on the characters that precede it. This task is essential for various applications, including text auto-completion, spell checking, and even in the development of sophisticated AI models capable of generating human-like text.\n",
        "\n",
        "At its core, next character prediction relies on statistical models or deep learning algorithms to analyze a given sequence of text and predict which character is most likely to follow. These predictions are based on patterns and relationships learned from large datasets of text during the training phase of the model.\n",
        "\n",
        "One of the most popular approaches to next character prediction involves the use of Recurrent Neural Networks (RNNs), and more specifically, a variant called Long Short-Term Memory (LSTM) networks. RNNs are particularly well-suited for sequential data like text, as they can maintain information in 'memory' about previous characters to inform the prediction of the next character. LSTM networks enhance this capability by being able to remember long-term dependencies, making them even more effective for next character prediction tasks.\n",
        "\n",
        "Training a model for next character prediction involves feeding it large amounts of text data, allowing it to learn the probability of each character's appearance following a sequence of characters. During this training process, the model adjusts its parameters to minimize the difference between its predictions and the actual outcomes, thus improving its predictive accuracy over time.\n",
        "\n",
        "Once trained, the model can be used to predict the next character in a given piece of text by considering the sequence of characters that precede it. This can enhance user experience in text editing software, improve efficiency in coding environments with auto-completion features, and enable more natural interactions with AI-based chatbots and virtual assistants.\n",
        "\n",
        "In summary, next character prediction plays a crucial role in enhancing the capabilities of various NLP applications, making text-based interactions more efficient, accurate, and human-like. Through the use of advanced machine learning models like RNNs and LSTMs, next character prediction continues to evolve, opening new possibilities for the future of text-based technology.”\n",
        "\n",
        "Inspired by the course example, **train and validate** rnn.RNN, rnn.LSTM and **rnn.GRU** for learning the above sequence. Use sequences of 10, 20, and 30 for your training. Feel free to adjust other network parameters. Report and compare training loss, validation accuracy, execution time for training, and computational and mode size complexities across the three models over various lengths of sequence."
      ],
      "metadata": {
        "id": "ofTbOHy3vCAZ"
      }
    },
    {
      "cell_type": "code",
      "source": [
        "#Using a modided example of Dr. Tabkhi's \"RNN\" available at https://github.com/HamedTabkhi/Intro-to-DL/blob/main/RNN.py\n",
        "#Using a modided example of Dr. Tabkhi's \"RNN-CharDataset\" available at https://github.com/HamedTabkhi/Intro-to-DL/blob/main/RNN-CharDataset.py"
      ],
      "metadata": {
        "id": "E4wmldkhvA9q"
      },
      "execution_count": null,
      "outputs": []
    },
    {
      "cell_type": "code",
      "execution_count": null,
      "metadata": {
        "id": "QsIqPri1TA1l"
      },
      "outputs": [],
      "source": [
        "import torch\n",
        "import torch.nn as nn\n",
        "import torch.optim as optim\n",
        "import numpy as np\n",
        "from sklearn.model_selection import train_test_split\n",
        "import time"
      ]
    },
    {
      "cell_type": "code",
      "source": [
        "# Check for CUDA support and set the device accordingly\n",
        "device = torch.device(\"cuda\" if torch.cuda.is_available() else \"cpu\")\n",
        "device"
      ],
      "metadata": {
        "id": "AeHJX1KKx5R9",
        "colab": {
          "base_uri": "https://localhost:8080/"
        },
        "outputId": "b6e67db7-b28d-4efd-8468-84c8dcb41570"
      },
      "execution_count": null,
      "outputs": [
        {
          "output_type": "execute_result",
          "data": {
            "text/plain": [
              "device(type='cuda')"
            ]
          },
          "metadata": {},
          "execution_count": 3
        }
      ]
    },
    {
      "cell_type": "code",
      "source": [
        "# Sample text\n",
        "text = \"Next character prediction is a fundamental task in the field of natural language processing (NLP) that involves predicting the next character in a sequence of text based on the characters that precede it. This task is essential for various applications, including text auto-completion, spell checking, and even in the development of sophisticated AI models capable of generating human-like text. At its core, next character prediction relies on statistical models or deep learning algorithms to analyze a given sequence of text and predict which character is most likely to follow. These predictions are based on patterns and relationships learned from large datasets of text during the training phase of the model. One of the most popular approaches to next character prediction involves the use of Recurrent Neural Networks (RNNs), and more specifically, a variant called Long Short-Term Memory (LSTM) networks. RNNs are particularly well-suited for sequential data like text, as they can maintain information in 'memory' about previous characters to inform the prediction of the next character. LSTM networks enhance this capability by being able to remember long-term dependencies, making them even more effective for next character prediction tasks. Training a model for next character prediction involves feeding it large amounts of text data, allowing it to learn the probability of each character's appearance following a sequence of characters. During this training process, the model adjusts its parameters to minimize the difference between its predictions and the actual outcomes, thus improving its predictive accuracy over time. Once trained, the model can be used to predict the next character in a given piece of text by considering the sequence of characters that precede it. This can enhance user experience in text editing software, improve efficiency in coding environments with auto-completion features, and enable more natural interactions with AI-based chatbots and virtual assistants. In summary, next character prediction plays a crucial role in enhancing the capabilities of various NLP applications, making text-based interactions more efficient, accurate, and human-like. Through the use of advanced machine learning models like RNNs and LSTMs, next character prediction continues to evolve, opening new possibilities for the future of text-based technology.\"\n",
        "# Creating character vocabulary\n",
        "# part of the data preprocessing step for a character-level text modeling task.\n",
        "# Create mappings between characters in the text and numerical indices\n",
        "\n",
        "#set(text): Creates a set of unique characters found in the text. The set function removes any duplicate characters.\n",
        "#list(set(text)): Converts the set back into a list so that it can be sorted.\n",
        "# sorted(list(set(text))): Sorts the list of unique characters.\n",
        "chars = sorted(list(set(text)))\n",
        "#This line creates a dictionary that maps each character to a unique index (integer).\"\n",
        "ix_to_char = {i: ch for i, ch in enumerate(chars)}\n",
        "#Similar to the previous line, but in reverse. This line creates a dictionary that maps each unique index (integer) back to its corresponding character.\n",
        "char_to_ix = {ch: i for i, ch in enumerate(chars)}\n",
        "chars = sorted(list(set(text)))"
      ],
      "metadata": {
        "id": "6n-qXq2JTKSu"
      },
      "execution_count": null,
      "outputs": []
    },
    {
      "cell_type": "markdown",
      "source": [
        "**MAXIMUM LENGTH OF INPUT SECQUENCES = 10**"
      ],
      "metadata": {
        "id": "geoepBjXvURF"
      }
    },
    {
      "cell_type": "code",
      "source": [
        "# Preparing the dataset\n",
        "max_length = 10  # Maximum length of input sequences\n",
        "X = []\n",
        "y = []\n",
        "for i in range(len(text) - max_length):\n",
        "    sequence = text[i:i + max_length]\n",
        "    label = text[i + max_length]\n",
        "    X.append([char_to_ix[char] for char in sequence])\n",
        "    y.append(char_to_ix[label])\n",
        "\n",
        "X = np.array(X)\n",
        "y = np.array(y)"
      ],
      "metadata": {
        "id": "UPWf78cSTVWo"
      },
      "execution_count": null,
      "outputs": []
    },
    {
      "cell_type": "code",
      "source": [
        "# Splitting the dataset into training and validation sets\n",
        "X_train, X_val, y_train, y_val = train_test_split(X, y, test_size=0.2, random_state=42)"
      ],
      "metadata": {
        "id": "R_6TR44dTbJP"
      },
      "execution_count": null,
      "outputs": []
    },
    {
      "cell_type": "code",
      "source": [
        "# Converting data to PyTorch tensors\n",
        "X_train = torch.tensor(X_train, dtype=torch.long)\n",
        "y_train = torch.tensor(y_train, dtype=torch.long)\n",
        "X_val = torch.tensor(X_val, dtype=torch.long)\n",
        "y_val = torch.tensor(y_val, dtype=torch.long)"
      ],
      "metadata": {
        "id": "c1kZYE3gTdKn"
      },
      "execution_count": null,
      "outputs": []
    },
    {
      "cell_type": "code",
      "source": [
        "# Defining the RNN model\n",
        "class CharRNN(nn.Module):\n",
        "    def __init__(self, input_size, hidden_size, output_size):\n",
        "        super(CharRNN, self).__init__()\n",
        "        self.hidden_size = hidden_size\n",
        "        #This line takes the input tensor x, which contains indices of characters, and passes it through an embedding layer (self.embedding).\n",
        "        #The embedding layer converts these indices into dense vectors of fixed size.\n",
        "        #These vectors are learned during training and can capture semantic similarities between characters.\n",
        "        #The result is a higher-dimensional representation of the input sequence, where each character index is replaced by its corresponding embedding vector.\n",
        "        self.embedding = nn.Embedding(input_size, hidden_size)\n",
        "        self.rnn = nn.GRU(hidden_size, hidden_size, batch_first=True)\n",
        "        self.fc = nn.Linear(hidden_size, output_size)\n",
        "\n",
        "    def forward(self, x):\n",
        "        embedded = self.embedding(x)\n",
        "        #The RNN layer returns two outputs:\n",
        "        #1- the output tensor containing the output of the RNN at each time step for each sequence in the batch,\n",
        "        #2-the hidden state (_) of the last time step (which is not used in this line, hence the underscore).\n",
        "        output, _ = self.rnn(embedded)\n",
        "        #The RNN's output contains the outputs for every time step,\n",
        "        #but for this task, we're only interested in the output of the last time step because we're predicting the next character after the sequence.\n",
        "        #output[:, -1, :] selects the last time step's output for every sequence in the batch (-1 indexes the last item in Python).\n",
        "        output = self.fc(output[:, -1, :])  # Get the output of the last RNN cell\n",
        "        return output"
      ],
      "metadata": {
        "id": "37fojvqSTe_7"
      },
      "execution_count": null,
      "outputs": []
    },
    {
      "cell_type": "code",
      "source": [
        "# Hyperparameters\n",
        "hidden_size = 120\n",
        "learning_rate = 0.001\n",
        "epochs = 100"
      ],
      "metadata": {
        "id": "td4AGgC2TiHl"
      },
      "execution_count": null,
      "outputs": []
    },
    {
      "cell_type": "code",
      "source": [
        "# Model, loss, and optimizer\n",
        "model = CharRNN(len(chars), hidden_size, len(chars))\n",
        "criterion = nn.CrossEntropyLoss()\n",
        "optimizer = optim.Adam(model.parameters(), lr=learning_rate)"
      ],
      "metadata": {
        "id": "08mM2r-QTkFT"
      },
      "execution_count": null,
      "outputs": []
    },
    {
      "cell_type": "code",
      "source": [
        "#count trainable parameters of the model\n",
        "def count_parameters(model):\n",
        "    return sum(p.numel() for p in model.parameters() if p.requires_grad)\n",
        "\n",
        "count_parameters(model)"
      ],
      "metadata": {
        "id": "cW7GtclyqhB0",
        "colab": {
          "base_uri": "https://localhost:8080/"
        },
        "outputId": "dc10c931-eae7-4dee-b6ec-cd845815967e"
      },
      "execution_count": null,
      "outputs": [
        {
          "output_type": "execute_result",
          "data": {
            "text/plain": [
              "97724"
            ]
          },
          "metadata": {},
          "execution_count": 11
        }
      ]
    },
    {
      "cell_type": "code",
      "source": [
        "# Training the model\n",
        "start_time = time.time()\n",
        "for epoch in range(epochs):\n",
        "    model.train()\n",
        "    optimizer.zero_grad()\n",
        "    output = model(X_train)\n",
        "    loss = criterion(output, y_train)\n",
        "    loss.backward()\n",
        "    optimizer.step()\n",
        "\n",
        "    # Training accuracy\n",
        "    with torch.no_grad():\n",
        "        _, predicted_train = torch.max(output, 1)\n",
        "        train_accuracy = (predicted_train == y_train).float().mean()\n",
        "\n",
        "    # Validation\n",
        "    model.eval()\n",
        "    with torch.no_grad():\n",
        "        val_output = model(X_val)\n",
        "        val_loss = criterion(val_output, y_val)\n",
        "        _, predicted_val = torch.max(val_output, 1)\n",
        "        val_accuracy = (predicted_val == y_val).float().mean()\n",
        "\n",
        "    if (epoch+1) % 10 == 0:\n",
        "        print(f'Epoch {epoch+1}, Training Loss: {loss.item():.4f}, Training Accuracy: {train_accuracy.item():.4f}, Validation Loss: {val_loss.item():.4f}, Validation Accuracy: {val_accuracy.item():.4f}')\n",
        "\n",
        "end_time = time.time()\n",
        "training_time = end_time - start_time\n",
        "print(f\"Training time: {training_time} seconds\")"
      ],
      "metadata": {
        "id": "gqpBZgkwUXuf",
        "colab": {
          "base_uri": "https://localhost:8080/"
        },
        "outputId": "312596c1-551e-4d60-be92-bb8a3e458138"
      },
      "execution_count": null,
      "outputs": [
        {
          "output_type": "stream",
          "name": "stdout",
          "text": [
            "Epoch 10, Training Loss: 3.2813, Training Accuracy: 0.1932, Validation Loss: 3.1972, Validation Accuracy: 0.2017\n",
            "Epoch 20, Training Loss: 2.8041, Training Accuracy: 0.2205, Validation Loss: 2.7207, Validation Accuracy: 0.2500\n",
            "Epoch 30, Training Loss: 2.5718, Training Accuracy: 0.3153, Validation Loss: 2.5201, Validation Accuracy: 0.3130\n",
            "Epoch 40, Training Loss: 2.3846, Training Accuracy: 0.3395, Validation Loss: 2.3875, Validation Accuracy: 0.3340\n",
            "Epoch 50, Training Loss: 2.2243, Training Accuracy: 0.3984, Validation Loss: 2.2783, Validation Accuracy: 0.3887\n",
            "Epoch 60, Training Loss: 2.0793, Training Accuracy: 0.4358, Validation Loss: 2.1876, Validation Accuracy: 0.4139\n",
            "Epoch 70, Training Loss: 1.9429, Training Accuracy: 0.4611, Validation Loss: 2.1060, Validation Accuracy: 0.4265\n",
            "Epoch 80, Training Loss: 1.8141, Training Accuracy: 0.4916, Validation Loss: 2.0392, Validation Accuracy: 0.4370\n",
            "Epoch 90, Training Loss: 1.6910, Training Accuracy: 0.5263, Validation Loss: 1.9806, Validation Accuracy: 0.4622\n",
            "Epoch 100, Training Loss: 1.5728, Training Accuracy: 0.5537, Validation Loss: 1.9310, Validation Accuracy: 0.4748\n",
            "Training time: 33.93104863166809 seconds\n"
          ]
        }
      ]
    },
    {
      "cell_type": "code",
      "source": [
        "# Prediction function\n",
        "def predict_next_char(model, char_to_ix, ix_to_char, initial_str):\n",
        "    model.eval()\n",
        "    with torch.no_grad():\n",
        "        initial_input = torch.tensor([char_to_ix[c] for c in initial_str[-max_length:]], dtype=torch.long).unsqueeze(0)\n",
        "        prediction = model(initial_input)\n",
        "        predicted_index = torch.argmax(prediction, dim=1).item()\n",
        "        return ix_to_char[predicted_index]\n",
        "\n",
        "# Predicting the next character\n",
        "test_str = \"This is a simple example to demonstrate how to predict the next char\"\n",
        "predicted_char = predict_next_char(model, char_to_ix, ix_to_char, test_str)\n",
        "print(f\"Predicted next character: '{predicted_char}'\")"
      ],
      "metadata": {
        "id": "1tb1RaHkUa70",
        "colab": {
          "base_uri": "https://localhost:8080/"
        },
        "outputId": "77699247-6898-4687-8a9f-00470efc7c0a"
      },
      "execution_count": null,
      "outputs": [
        {
          "output_type": "stream",
          "name": "stdout",
          "text": [
            "Predicted next character: 'a'\n"
          ]
        }
      ]
    },
    {
      "cell_type": "markdown",
      "source": [
        "**MAXIMUM LENGTH OF INPUT SECQUENCES = 20**"
      ],
      "metadata": {
        "id": "Er6jlhU9v0s8"
      }
    },
    {
      "cell_type": "code",
      "source": [
        "# Preparing the dataset\n",
        "max_length = 20  # Maximum length of input sequences\n",
        "X = []\n",
        "y = []\n",
        "for i in range(len(text) - max_length):\n",
        "    sequence = text[i:i + max_length]\n",
        "    label = text[i + max_length]\n",
        "    X.append([char_to_ix[char] for char in sequence])\n",
        "    y.append(char_to_ix[label])\n",
        "\n",
        "X = np.array(X)\n",
        "y = np.array(y)"
      ],
      "metadata": {
        "id": "k5QVdD9qv8cb"
      },
      "execution_count": null,
      "outputs": []
    },
    {
      "cell_type": "code",
      "source": [
        "# Splitting the dataset into training and validation sets\n",
        "X_train, X_val, y_train, y_val = train_test_split(X, y, test_size=0.2, random_state=42)"
      ],
      "metadata": {
        "id": "tkzbCB04wAQ5"
      },
      "execution_count": null,
      "outputs": []
    },
    {
      "cell_type": "code",
      "source": [
        "# Converting data to PyTorch tensors\n",
        "X_train = torch.tensor(X_train, dtype=torch.long)\n",
        "y_train = torch.tensor(y_train, dtype=torch.long)\n",
        "X_val = torch.tensor(X_val, dtype=torch.long)\n",
        "y_val = torch.tensor(y_val, dtype=torch.long)"
      ],
      "metadata": {
        "id": "RWWGFbjlwD8X"
      },
      "execution_count": null,
      "outputs": []
    },
    {
      "cell_type": "code",
      "source": [
        "# Defining the RNN model\n",
        "class CharRNN(nn.Module):\n",
        "    def __init__(self, input_size, hidden_size, output_size):\n",
        "        super(CharRNN, self).__init__()\n",
        "        self.hidden_size = hidden_size\n",
        "        #This line takes the input tensor x, which contains indices of characters, and passes it through an embedding layer (self.embedding).\n",
        "        #The embedding layer converts these indices into dense vectors of fixed size.\n",
        "        #These vectors are learned during training and can capture semantic similarities between characters.\n",
        "        #The result is a higher-dimensional representation of the input sequence, where each character index is replaced by its corresponding embedding vector.\n",
        "        self.embedding = nn.Embedding(input_size, hidden_size)\n",
        "        self.rnn = nn.GRU(hidden_size, hidden_size, batch_first=True)\n",
        "        self.fc = nn.Linear(hidden_size, output_size)\n",
        "\n",
        "    def forward(self, x):\n",
        "        embedded = self.embedding(x)\n",
        "        #The RNN layer returns two outputs:\n",
        "        #1- the output tensor containing the output of the RNN at each time step for each sequence in the batch,\n",
        "        #2-the hidden state (_) of the last time step (which is not used in this line, hence the underscore).\n",
        "        output, _ = self.rnn(embedded)\n",
        "        #The RNN's output contains the outputs for every time step,\n",
        "        #but for this task, we're only interested in the output of the last time step because we're predicting the next character after the sequence.\n",
        "        #output[:, -1, :] selects the last time step's output for every sequence in the batch (-1 indexes the last item in Python).\n",
        "        output = self.fc(output[:, -1, :])  # Get the output of the last RNN cell\n",
        "        return output"
      ],
      "metadata": {
        "id": "zFl8uMW6wH2F"
      },
      "execution_count": null,
      "outputs": []
    },
    {
      "cell_type": "code",
      "source": [
        "# Hyperparameters\n",
        "hidden_size = 120\n",
        "learning_rate = 0.001\n",
        "epochs = 100"
      ],
      "metadata": {
        "id": "kqw6WPaLwQXJ"
      },
      "execution_count": null,
      "outputs": []
    },
    {
      "cell_type": "code",
      "source": [
        "# Model, loss, and optimizer\n",
        "model = CharRNN(len(chars), hidden_size, len(chars))\n",
        "criterion = nn.CrossEntropyLoss()\n",
        "optimizer = optim.Adam(model.parameters(), lr=learning_rate)"
      ],
      "metadata": {
        "id": "Ei1IO9iIwTnJ"
      },
      "execution_count": null,
      "outputs": []
    },
    {
      "cell_type": "code",
      "source": [
        "#count trainable parameters of the model\n",
        "def count_parameters(model):\n",
        "    return sum(p.numel() for p in model.parameters() if p.requires_grad)\n",
        "\n",
        "count_parameters(model)"
      ],
      "metadata": {
        "id": "I1wgWVpsqjaL",
        "colab": {
          "base_uri": "https://localhost:8080/"
        },
        "outputId": "0741e13d-733f-4419-9143-efba74fc1a51"
      },
      "execution_count": null,
      "outputs": [
        {
          "output_type": "execute_result",
          "data": {
            "text/plain": [
              "97724"
            ]
          },
          "metadata": {},
          "execution_count": 20
        }
      ]
    },
    {
      "cell_type": "code",
      "source": [
        "# Training the model\n",
        "start_time = time.time()\n",
        "for epoch in range(epochs):\n",
        "    model.train()\n",
        "    optimizer.zero_grad()\n",
        "    output = model(X_train)\n",
        "    loss = criterion(output, y_train)\n",
        "    loss.backward()\n",
        "    optimizer.step()\n",
        "\n",
        "    # Training accuracy\n",
        "    with torch.no_grad():\n",
        "        _, predicted_train = torch.max(output, 1)\n",
        "        train_accuracy = (predicted_train == y_train).float().mean()\n",
        "\n",
        "    # Validation\n",
        "    model.eval()\n",
        "    with torch.no_grad():\n",
        "        val_output = model(X_val)\n",
        "        val_loss = criterion(val_output, y_val)\n",
        "        _, predicted_val = torch.max(val_output, 1)\n",
        "        val_accuracy = (predicted_val == y_val).float().mean()\n",
        "\n",
        "    if (epoch+1) % 10 == 0:\n",
        "        print(f'Epoch {epoch+1}, Training Loss: {loss.item():.4f}, Training Accuracy: {train_accuracy.item():.4f}, Validation Loss: {val_loss.item():.4f}, Validation Accuracy: {val_accuracy.item():.4f}')\n",
        "\n",
        "end_time = time.time()\n",
        "training_time = end_time - start_time\n",
        "print(f\"Training time: {training_time} seconds\")"
      ],
      "metadata": {
        "colab": {
          "base_uri": "https://localhost:8080/"
        },
        "id": "ykxNe0k3wcmv",
        "outputId": "72e7b7de-1b7a-40c7-8df0-5dad1b5d1d54"
      },
      "execution_count": null,
      "outputs": [
        {
          "output_type": "stream",
          "name": "stdout",
          "text": [
            "Epoch 10, Training Loss: 3.1673, Training Accuracy: 0.1813, Validation Loss: 3.1139, Validation Accuracy: 0.1814\n",
            "Epoch 20, Training Loss: 2.7818, Training Accuracy: 0.2415, Validation Loss: 2.7596, Validation Accuracy: 0.2511\n",
            "Epoch 30, Training Loss: 2.5659, Training Accuracy: 0.3066, Validation Loss: 2.5834, Validation Accuracy: 0.3165\n",
            "Epoch 40, Training Loss: 2.3910, Training Accuracy: 0.3367, Validation Loss: 2.4439, Validation Accuracy: 0.2975\n",
            "Epoch 50, Training Loss: 2.2340, Training Accuracy: 0.3943, Validation Loss: 2.3179, Validation Accuracy: 0.3797\n",
            "Epoch 60, Training Loss: 2.0913, Training Accuracy: 0.4181, Validation Loss: 2.2216, Validation Accuracy: 0.4177\n",
            "Epoch 70, Training Loss: 1.9557, Training Accuracy: 0.4699, Validation Loss: 2.1385, Validation Accuracy: 0.4304\n",
            "Epoch 80, Training Loss: 1.8269, Training Accuracy: 0.4963, Validation Loss: 2.0692, Validation Accuracy: 0.4536\n",
            "Epoch 90, Training Loss: 1.7039, Training Accuracy: 0.5143, Validation Loss: 2.0123, Validation Accuracy: 0.4747\n",
            "Epoch 100, Training Loss: 1.5857, Training Accuracy: 0.5523, Validation Loss: 1.9644, Validation Accuracy: 0.4873\n",
            "Training time: 64.1801872253418 seconds\n"
          ]
        }
      ]
    },
    {
      "cell_type": "code",
      "source": [
        "# Prediction function\n",
        "def predict_next_char(model, char_to_ix, ix_to_char, initial_str):\n",
        "    model.eval()\n",
        "    with torch.no_grad():\n",
        "        initial_input = torch.tensor([char_to_ix[c] for c in initial_str[-max_length:]], dtype=torch.long).unsqueeze(0)\n",
        "        prediction = model(initial_input)\n",
        "        predicted_index = torch.argmax(prediction, dim=1).item()\n",
        "        return ix_to_char[predicted_index]\n",
        "\n",
        "# Predicting the next character\n",
        "test_str = \"This is a simple example to demonstrate how to predict the next char\"\n",
        "predicted_char = predict_next_char(model, char_to_ix, ix_to_char, test_str)\n",
        "print(f\"Predicted next character: '{predicted_char}'\")"
      ],
      "metadata": {
        "colab": {
          "base_uri": "https://localhost:8080/"
        },
        "id": "jONuVlPFwdeT",
        "outputId": "03bf9187-fe32-4923-8a83-5c8bd9c444d9"
      },
      "execution_count": null,
      "outputs": [
        {
          "output_type": "stream",
          "name": "stdout",
          "text": [
            "Predicted next character: 'a'\n"
          ]
        }
      ]
    },
    {
      "cell_type": "markdown",
      "source": [
        "MAXIMUM LENGTH OF INPUT SECQUENCES = 30"
      ],
      "metadata": {
        "id": "HzVQ6p7Uwh9M"
      }
    },
    {
      "cell_type": "code",
      "source": [
        "# Preparing the dataset\n",
        "max_length = 30  # Maximum length of input sequences\n",
        "X = []\n",
        "y = []\n",
        "for i in range(len(text) - max_length):\n",
        "    sequence = text[i:i + max_length]\n",
        "    label = text[i + max_length]\n",
        "    X.append([char_to_ix[char] for char in sequence])\n",
        "    y.append(char_to_ix[label])\n",
        "\n",
        "X = np.array(X)\n",
        "y = np.array(y)"
      ],
      "metadata": {
        "id": "-ZC6clLxwmwZ"
      },
      "execution_count": null,
      "outputs": []
    },
    {
      "cell_type": "code",
      "source": [
        "# Splitting the dataset into training and validation sets\n",
        "X_train, X_val, y_train, y_val = train_test_split(X, y, test_size=0.2, random_state=42)"
      ],
      "metadata": {
        "id": "o1DOXm1vwwZF"
      },
      "execution_count": null,
      "outputs": []
    },
    {
      "cell_type": "code",
      "source": [
        "# Converting data to PyTorch tensors\n",
        "X_train = torch.tensor(X_train, dtype=torch.long)\n",
        "y_train = torch.tensor(y_train, dtype=torch.long)\n",
        "X_val = torch.tensor(X_val, dtype=torch.long)\n",
        "y_val = torch.tensor(y_val, dtype=torch.long)"
      ],
      "metadata": {
        "id": "cRtdeDM1wxZw"
      },
      "execution_count": null,
      "outputs": []
    },
    {
      "cell_type": "code",
      "source": [
        "# Defining the RNN model\n",
        "class CharRNN(nn.Module):\n",
        "    def __init__(self, input_size, hidden_size, output_size):\n",
        "        super(CharRNN, self).__init__()\n",
        "        self.hidden_size = hidden_size\n",
        "        #This line takes the input tensor x, which contains indices of characters, and passes it through an embedding layer (self.embedding).\n",
        "        #The embedding layer converts these indices into dense vectors of fixed size.\n",
        "        #These vectors are learned during training and can capture semantic similarities between characters.\n",
        "        #The result is a higher-dimensional representation of the input sequence, where each character index is replaced by its corresponding embedding vector.\n",
        "        self.embedding = nn.Embedding(input_size, hidden_size)\n",
        "        self.rnn = nn.GRU(hidden_size, hidden_size, batch_first=True)\n",
        "        self.fc = nn.Linear(hidden_size, output_size)\n",
        "\n",
        "    def forward(self, x):\n",
        "        embedded = self.embedding(x)\n",
        "        #The RNN layer returns two outputs:\n",
        "        #1- the output tensor containing the output of the RNN at each time step for each sequence in the batch,\n",
        "        #2-the hidden state (_) of the last time step (which is not used in this line, hence the underscore).\n",
        "        output, _ = self.rnn(embedded)\n",
        "        #The RNN's output contains the outputs for every time step,\n",
        "        #but for this task, we're only interested in the output of the last time step because we're predicting the next character after the sequence.\n",
        "        #output[:, -1, :] selects the last time step's output for every sequence in the batch (-1 indexes the last item in Python).\n",
        "        output = self.fc(output[:, -1, :])  # Get the output of the last RNN cell\n",
        "        return output"
      ],
      "metadata": {
        "id": "dQY2Xnffw0OU"
      },
      "execution_count": null,
      "outputs": []
    },
    {
      "cell_type": "code",
      "source": [
        "# Hyperparameters\n",
        "hidden_size = 120\n",
        "learning_rate = 0.001\n",
        "epochs = 100"
      ],
      "metadata": {
        "id": "T-EmWOC9w3PQ"
      },
      "execution_count": null,
      "outputs": []
    },
    {
      "cell_type": "code",
      "source": [
        "# Model, loss, and optimizer\n",
        "model = CharRNN(len(chars), hidden_size, len(chars))\n",
        "criterion = nn.CrossEntropyLoss()\n",
        "optimizer = optim.Adam(model.parameters(), lr=learning_rate)"
      ],
      "metadata": {
        "id": "Dhm3fz4-w6IY"
      },
      "execution_count": null,
      "outputs": []
    },
    {
      "cell_type": "code",
      "source": [
        "#count trainable parameters of the model\n",
        "def count_parameters(model):\n",
        "    return sum(p.numel() for p in model.parameters() if p.requires_grad)\n",
        "\n",
        "count_parameters(model)"
      ],
      "metadata": {
        "id": "Nz8kWwhAR--z",
        "outputId": "5dff0b41-45c6-48b5-89cb-f57cb7c4b9f4",
        "colab": {
          "base_uri": "https://localhost:8080/"
        }
      },
      "execution_count": null,
      "outputs": [
        {
          "output_type": "execute_result",
          "data": {
            "text/plain": [
              "97724"
            ]
          },
          "metadata": {},
          "execution_count": 29
        }
      ]
    },
    {
      "cell_type": "code",
      "source": [
        "# Training the model\n",
        "start_time = time.time()\n",
        "for epoch in range(epochs):\n",
        "    model.train()\n",
        "    optimizer.zero_grad()\n",
        "    output = model(X_train)\n",
        "    loss = criterion(output, y_train)\n",
        "    loss.backward()\n",
        "    optimizer.step()\n",
        "\n",
        "    # Training accuracy\n",
        "    with torch.no_grad():\n",
        "        _, predicted_train = torch.max(output, 1)\n",
        "        train_accuracy = (predicted_train == y_train).float().mean()\n",
        "\n",
        "    # Validation\n",
        "    model.eval()\n",
        "    with torch.no_grad():\n",
        "        val_output = model(X_val)\n",
        "        val_loss = criterion(val_output, y_val)\n",
        "        _, predicted_val = torch.max(val_output, 1)\n",
        "        val_accuracy = (predicted_val == y_val).float().mean()\n",
        "\n",
        "    if (epoch+1) % 10 == 0:\n",
        "        print(f'Epoch {epoch+1}, Training Loss: {loss.item():.4f}, Training Accuracy: {train_accuracy.item():.4f}, Validation Loss: {val_loss.item():.4f}, Validation Accuracy: {val_accuracy.item():.4f}')\n",
        "\n",
        "end_time = time.time()\n",
        "training_time = end_time - start_time\n",
        "print(f\"Training time: {training_time} seconds\")"
      ],
      "metadata": {
        "colab": {
          "base_uri": "https://localhost:8080/"
        },
        "id": "jRbE2ykQw_kp",
        "outputId": "bbba3fd4-dc62-490a-f36b-7e9dae4cf25f"
      },
      "execution_count": null,
      "outputs": [
        {
          "output_type": "stream",
          "name": "stdout",
          "text": [
            "Epoch 10, Training Loss: 3.1770, Training Accuracy: 0.2527, Validation Loss: 3.1471, Validation Accuracy: 0.2161\n",
            "Epoch 20, Training Loss: 2.7527, Training Accuracy: 0.2617, Validation Loss: 2.7774, Validation Accuracy: 0.2479\n",
            "Epoch 30, Training Loss: 2.5205, Training Accuracy: 0.3323, Validation Loss: 2.6128, Validation Accuracy: 0.2881\n",
            "Epoch 40, Training Loss: 2.3404, Training Accuracy: 0.3694, Validation Loss: 2.4640, Validation Accuracy: 0.3242\n",
            "Epoch 50, Training Loss: 2.1847, Training Accuracy: 0.3933, Validation Loss: 2.3424, Validation Accuracy: 0.3411\n",
            "Epoch 60, Training Loss: 2.0466, Training Accuracy: 0.4379, Validation Loss: 2.2465, Validation Accuracy: 0.3898\n",
            "Epoch 70, Training Loss: 1.9184, Training Accuracy: 0.4713, Validation Loss: 2.1654, Validation Accuracy: 0.4280\n",
            "Epoch 80, Training Loss: 1.7971, Training Accuracy: 0.4958, Validation Loss: 2.0977, Validation Accuracy: 0.4280\n",
            "Epoch 90, Training Loss: 1.6808, Training Accuracy: 0.5303, Validation Loss: 2.0442, Validation Accuracy: 0.4597\n",
            "Epoch 100, Training Loss: 1.5686, Training Accuracy: 0.5547, Validation Loss: 2.0028, Validation Accuracy: 0.4661\n",
            "Training time: 94.4404513835907 seconds\n"
          ]
        }
      ]
    },
    {
      "cell_type": "code",
      "source": [
        "# Prediction function\n",
        "def predict_next_char(model, char_to_ix, ix_to_char, initial_str):\n",
        "    model.eval()\n",
        "    with torch.no_grad():\n",
        "        initial_input = torch.tensor([char_to_ix[c] for c in initial_str[-max_length:]], dtype=torch.long).unsqueeze(0)\n",
        "        prediction = model(initial_input)\n",
        "        predicted_index = torch.argmax(prediction, dim=1).item()\n",
        "        return ix_to_char[predicted_index]\n",
        "\n",
        "# Predicting the next character\n",
        "test_str = \"This is a simple example to demonstrate how to predict the next char\"\n",
        "predicted_char = predict_next_char(model, char_to_ix, ix_to_char, test_str)\n",
        "print(f\"Predicted next character: '{predicted_char}'\")"
      ],
      "metadata": {
        "colab": {
          "base_uri": "https://localhost:8080/"
        },
        "id": "xX477lmKxCW_",
        "outputId": "500bf921-0832-4622-f6cc-25c004e04699"
      },
      "execution_count": null,
      "outputs": [
        {
          "output_type": "stream",
          "name": "stdout",
          "text": [
            "Predicted next character: 'a'\n"
          ]
        }
      ]
    }
  ]
}