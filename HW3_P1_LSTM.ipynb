{
  "nbformat": 4,
  "nbformat_minor": 0,
  "metadata": {
    "colab": {
      "provenance": [],
      "gpuType": "T4",
      "authorship_tag": "ABX9TyNaKTSKJIILtFSnO5LAh9Ap",
      "include_colab_link": true
    },
    "kernelspec": {
      "name": "python3",
      "display_name": "Python 3"
    },
    "language_info": {
      "name": "python"
    },
    "accelerator": "GPU"
  },
  "cells": [
    {
      "cell_type": "markdown",
      "metadata": {
        "id": "view-in-github",
        "colab_type": "text"
      },
      "source": [
        "<a href=\"https://colab.research.google.com/github/hurricane195/Intro-to-Deep-Learning/blob/Homework_3/HW3_P1_LSTM.ipynb\" target=\"_parent\"><img src=\"https://colab.research.google.com/assets/colab-badge.svg\" alt=\"Open In Colab\"/></a>"
      ]
    },
    {
      "cell_type": "markdown",
      "source": [
        "In this homework, we focus on the language model we did in the lectures. However, we expand it to the much longer sequence. Here is the sequence:\n",
        "\n",
        "“Next character prediction is a fundamental task in the field of natural language processing (NLP) that involves predicting the next character in a sequence of text based on the characters that precede it. This task is essential for various applications, including text auto-completion, spell checking, and even in the development of sophisticated AI models capable of generating human-like text.\n",
        "\n",
        "At its core, next character prediction relies on statistical models or deep learning algorithms to analyze a given sequence of text and predict which character is most likely to follow. These predictions are based on patterns and relationships learned from large datasets of text during the training phase of the model.\n",
        "\n",
        "One of the most popular approaches to next character prediction involves the use of Recurrent Neural Networks (RNNs), and more specifically, a variant called Long Short-Term Memory (LSTM) networks. RNNs are particularly well-suited for sequential data like text, as they can maintain information in 'memory' about previous characters to inform the prediction of the next character. LSTM networks enhance this capability by being able to remember long-term dependencies, making them even more effective for next character prediction tasks.\n",
        "\n",
        "Training a model for next character prediction involves feeding it large amounts of text data, allowing it to learn the probability of each character's appearance following a sequence of characters. During this training process, the model adjusts its parameters to minimize the difference between its predictions and the actual outcomes, thus improving its predictive accuracy over time.\n",
        "\n",
        "Once trained, the model can be used to predict the next character in a given piece of text by considering the sequence of characters that precede it. This can enhance user experience in text editing software, improve efficiency in coding environments with auto-completion features, and enable more natural interactions with AI-based chatbots and virtual assistants.\n",
        "\n",
        "In summary, next character prediction plays a crucial role in enhancing the capabilities of various NLP applications, making text-based interactions more efficient, accurate, and human-like. Through the use of advanced machine learning models like RNNs and LSTMs, next character prediction continues to evolve, opening new possibilities for the future of text-based technology.”\n",
        "\n",
        "Inspired by the course example, **train and validate** rnn.RNN, **rnn.LSTM** and rnn.GRU for learning the above sequence. Use sequences of 10, 20, and 30 for your training. Feel free to adjust other network parameters. Report and compare training loss, validation accuracy, execution time for training, and computational and mode size complexities across the three models over various lengths of sequence."
      ],
      "metadata": {
        "id": "DKztULRVvVbi"
      }
    },
    {
      "cell_type": "code",
      "source": [
        "#Using a modided example of Dr. Tabkhi's \"RNN\" available at https://github.com/HamedTabkhi/Intro-to-DL/blob/main/RNN.py\n",
        "#Using a modided example of Dr. Tabkhi's \"RNN-CharDataset\" available at https://github.com/HamedTabkhi/Intro-to-DL/blob/main/RNN-CharDataset.py"
      ],
      "metadata": {
        "id": "Sro6wKtKu-QR"
      },
      "execution_count": null,
      "outputs": []
    },
    {
      "cell_type": "code",
      "execution_count": null,
      "metadata": {
        "id": "QsIqPri1TA1l"
      },
      "outputs": [],
      "source": [
        "import torch\n",
        "import torch.nn as nn\n",
        "import torch.optim as optim\n",
        "import numpy as np\n",
        "from sklearn.model_selection import train_test_split\n",
        "import time"
      ]
    },
    {
      "cell_type": "code",
      "source": [
        "# Check for CUDA support and set the device accordingly\n",
        "device = torch.device(\"cuda\" if torch.cuda.is_available() else \"cpu\")\n",
        "device"
      ],
      "metadata": {
        "id": "NlBfiOLxx9Dt",
        "colab": {
          "base_uri": "https://localhost:8080/"
        },
        "outputId": "b3a566a3-1c63-4031-e83f-0dd55bcd390b"
      },
      "execution_count": null,
      "outputs": [
        {
          "output_type": "execute_result",
          "data": {
            "text/plain": [
              "device(type='cuda')"
            ]
          },
          "metadata": {},
          "execution_count": 3
        }
      ]
    },
    {
      "cell_type": "code",
      "source": [
        "# Sample text\n",
        "text = \"Next character prediction is a fundamental task in the field of natural language processing (NLP) that involves predicting the next character in a sequence of text based on the characters that precede it. This task is essential for various applications, including text auto-completion, spell checking, and even in the development of sophisticated AI models capable of generating human-like text. At its core, next character prediction relies on statistical models or deep learning algorithms to analyze a given sequence of text and predict which character is most likely to follow. These predictions are based on patterns and relationships learned from large datasets of text during the training phase of the model. One of the most popular approaches to next character prediction involves the use of Recurrent Neural Networks (RNNs), and more specifically, a variant called Long Short-Term Memory (LSTM) networks. RNNs are particularly well-suited for sequential data like text, as they can maintain information in 'memory' about previous characters to inform the prediction of the next character. LSTM networks enhance this capability by being able to remember long-term dependencies, making them even more effective for next character prediction tasks. Training a model for next character prediction involves feeding it large amounts of text data, allowing it to learn the probability of each character's appearance following a sequence of characters. During this training process, the model adjusts its parameters to minimize the difference between its predictions and the actual outcomes, thus improving its predictive accuracy over time. Once trained, the model can be used to predict the next character in a given piece of text by considering the sequence of characters that precede it. This can enhance user experience in text editing software, improve efficiency in coding environments with auto-completion features, and enable more natural interactions with AI-based chatbots and virtual assistants. In summary, next character prediction plays a crucial role in enhancing the capabilities of various NLP applications, making text-based interactions more efficient, accurate, and human-like. Through the use of advanced machine learning models like RNNs and LSTMs, next character prediction continues to evolve, opening new possibilities for the future of text-based technology.\"\n",
        "# Creating character vocabulary\n",
        "# part of the data preprocessing step for a character-level text modeling task.\n",
        "# Create mappings between characters in the text and numerical indices\n",
        "\n",
        "#set(text): Creates a set of unique characters found in the text. The set function removes any duplicate characters.\n",
        "#list(set(text)): Converts the set back into a list so that it can be sorted.\n",
        "# sorted(list(set(text))): Sorts the list of unique characters.\n",
        "chars = sorted(list(set(text)))\n",
        "#This line creates a dictionary that maps each character to a unique index (integer).\"\n",
        "ix_to_char = {i: ch for i, ch in enumerate(chars)}\n",
        "#Similar to the previous line, but in reverse. This line creates a dictionary that maps each unique index (integer) back to its corresponding character.\n",
        "char_to_ix = {ch: i for i, ch in enumerate(chars)}\n",
        "chars = sorted(list(set(text)))"
      ],
      "metadata": {
        "id": "6n-qXq2JTKSu"
      },
      "execution_count": null,
      "outputs": []
    },
    {
      "cell_type": "markdown",
      "source": [
        "**MAXIMUM LENGTH OF INPUT SECQUENCES = 10**"
      ],
      "metadata": {
        "id": "geoepBjXvURF"
      }
    },
    {
      "cell_type": "code",
      "source": [
        "# Preparing the dataset\n",
        "max_length = 10  # Maximum length of input sequences\n",
        "X = []\n",
        "y = []\n",
        "for i in range(len(text) - max_length):\n",
        "    sequence = text[i:i + max_length]\n",
        "    label = text[i + max_length]\n",
        "    X.append([char_to_ix[char] for char in sequence])\n",
        "    y.append(char_to_ix[label])\n",
        "\n",
        "X = np.array(X)\n",
        "y = np.array(y)"
      ],
      "metadata": {
        "id": "UPWf78cSTVWo"
      },
      "execution_count": null,
      "outputs": []
    },
    {
      "cell_type": "code",
      "source": [
        "# Splitting the dataset into training and validation sets\n",
        "X_train, X_val, y_train, y_val = train_test_split(X, y, test_size=0.2, random_state=42)"
      ],
      "metadata": {
        "id": "R_6TR44dTbJP"
      },
      "execution_count": null,
      "outputs": []
    },
    {
      "cell_type": "code",
      "source": [
        "# Converting data to PyTorch tensors\n",
        "X_train = torch.tensor(X_train, dtype=torch.long)\n",
        "y_train = torch.tensor(y_train, dtype=torch.long)\n",
        "X_val = torch.tensor(X_val, dtype=torch.long)\n",
        "y_val = torch.tensor(y_val, dtype=torch.long)"
      ],
      "metadata": {
        "id": "c1kZYE3gTdKn"
      },
      "execution_count": null,
      "outputs": []
    },
    {
      "cell_type": "code",
      "source": [
        "# Defining the RNN model\n",
        "class CharRNN(nn.Module):\n",
        "    def __init__(self, input_size, hidden_size, output_size):\n",
        "        super(CharRNN, self).__init__()\n",
        "        self.hidden_size = hidden_size\n",
        "        #This line takes the input tensor x, which contains indices of characters, and passes it through an embedding layer (self.embedding).\n",
        "        #The embedding layer converts these indices into dense vectors of fixed size.\n",
        "        #These vectors are learned during training and can capture semantic similarities between characters.\n",
        "        #The result is a higher-dimensional representation of the input sequence, where each character index is replaced by its corresponding embedding vector.\n",
        "        self.embedding = nn.Embedding(input_size, hidden_size)\n",
        "        self.rnn = nn.LSTM(hidden_size, hidden_size, batch_first=True)\n",
        "        self.fc = nn.Linear(hidden_size, output_size)\n",
        "\n",
        "    def forward(self, x):\n",
        "        embedded = self.embedding(x)\n",
        "        #The RNN layer returns two outputs:\n",
        "        #1- the output tensor containing the output of the RNN at each time step for each sequence in the batch,\n",
        "        #2-the hidden state (_) of the last time step (which is not used in this line, hence the underscore).\n",
        "        output, _ = self.rnn(embedded)\n",
        "        #The RNN's output contains the outputs for every time step,\n",
        "        #but for this task, we're only interested in the output of the last time step because we're predicting the next character after the sequence.\n",
        "        #output[:, -1, :] selects the last time step's output for every sequence in the batch (-1 indexes the last item in Python).\n",
        "        output = self.fc(output[:, -1, :])  # Get the output of the last RNN cell\n",
        "        return output"
      ],
      "metadata": {
        "id": "37fojvqSTe_7"
      },
      "execution_count": null,
      "outputs": []
    },
    {
      "cell_type": "code",
      "source": [
        "# Hyperparameters\n",
        "hidden_size = 120\n",
        "learning_rate = 0.001\n",
        "epochs = 100"
      ],
      "metadata": {
        "id": "td4AGgC2TiHl"
      },
      "execution_count": null,
      "outputs": []
    },
    {
      "cell_type": "code",
      "source": [
        "# Model, loss, and optimizer\n",
        "model = CharRNN(len(chars), hidden_size, len(chars))\n",
        "criterion = nn.CrossEntropyLoss()\n",
        "optimizer = optim.Adam(model.parameters(), lr=learning_rate)"
      ],
      "metadata": {
        "id": "08mM2r-QTkFT"
      },
      "execution_count": null,
      "outputs": []
    },
    {
      "cell_type": "code",
      "source": [
        "#count trainable parameters of the model\n",
        "def count_parameters(model):\n",
        "    return sum(p.numel() for p in model.parameters() if p.requires_grad)\n",
        "\n",
        "count_parameters(model)"
      ],
      "metadata": {
        "id": "Csrdsk5yqYkD",
        "colab": {
          "base_uri": "https://localhost:8080/"
        },
        "outputId": "1c2ce308-acc1-46fa-8469-2b310af7eb79"
      },
      "execution_count": null,
      "outputs": [
        {
          "output_type": "execute_result",
          "data": {
            "text/plain": [
              "126764"
            ]
          },
          "metadata": {},
          "execution_count": 11
        }
      ]
    },
    {
      "cell_type": "code",
      "source": [
        "# Training the model\n",
        "start_time = time.time()\n",
        "for epoch in range(epochs):\n",
        "    model.train()\n",
        "    optimizer.zero_grad()\n",
        "    output = model(X_train)\n",
        "    loss = criterion(output, y_train)\n",
        "    loss.backward()\n",
        "    optimizer.step()\n",
        "\n",
        "    # Training accuracy\n",
        "    with torch.no_grad():\n",
        "        _, predicted_train = torch.max(output, 1)\n",
        "        train_accuracy = (predicted_train == y_train).float().mean()\n",
        "\n",
        "    # Validation\n",
        "    model.eval()\n",
        "    with torch.no_grad():\n",
        "        val_output = model(X_val)\n",
        "        val_loss = criterion(val_output, y_val)\n",
        "        _, predicted_val = torch.max(val_output, 1)\n",
        "        val_accuracy = (predicted_val == y_val).float().mean()\n",
        "\n",
        "    if (epoch+1) % 10 == 0:\n",
        "        print(f'Epoch {epoch+1}, Training Loss: {loss.item():.4f}, Training Accuracy: {train_accuracy.item():.4f}, Validation Loss: {val_loss.item():.4f}, Validation Accuracy: {val_accuracy.item():.4f}')\n",
        "\n",
        "end_time = time.time()\n",
        "training_time = end_time - start_time\n",
        "print(f\"Training time: {training_time} seconds\")"
      ],
      "metadata": {
        "id": "gqpBZgkwUXuf",
        "colab": {
          "base_uri": "https://localhost:8080/"
        },
        "outputId": "a7367470-df3c-4602-fb37-15cdbcd348c1"
      },
      "execution_count": null,
      "outputs": [
        {
          "output_type": "stream",
          "name": "stdout",
          "text": [
            "Epoch 10, Training Loss: 3.4056, Training Accuracy: 0.2379, Validation Loss: 3.3111, Validation Accuracy: 0.2647\n",
            "Epoch 20, Training Loss: 2.9106, Training Accuracy: 0.2111, Validation Loss: 2.8008, Validation Accuracy: 0.2290\n",
            "Epoch 30, Training Loss: 2.6921, Training Accuracy: 0.2721, Validation Loss: 2.6342, Validation Accuracy: 0.2836\n",
            "Epoch 40, Training Loss: 2.5144, Training Accuracy: 0.3084, Validation Loss: 2.4873, Validation Accuracy: 0.3193\n",
            "Epoch 50, Training Loss: 2.3517, Training Accuracy: 0.3479, Validation Loss: 2.3785, Validation Accuracy: 0.3634\n",
            "Epoch 60, Training Loss: 2.2036, Training Accuracy: 0.3968, Validation Loss: 2.2855, Validation Accuracy: 0.3992\n",
            "Epoch 70, Training Loss: 2.0650, Training Accuracy: 0.4453, Validation Loss: 2.2149, Validation Accuracy: 0.4202\n",
            "Epoch 80, Training Loss: 1.9317, Training Accuracy: 0.4821, Validation Loss: 2.1565, Validation Accuracy: 0.4370\n",
            "Epoch 90, Training Loss: 1.8032, Training Accuracy: 0.5137, Validation Loss: 2.1134, Validation Accuracy: 0.4391\n",
            "Epoch 100, Training Loss: 1.6786, Training Accuracy: 0.5395, Validation Loss: 2.0832, Validation Accuracy: 0.4391\n",
            "Training time: 48.05019474029541 seconds\n"
          ]
        }
      ]
    },
    {
      "cell_type": "code",
      "source": [
        "# Prediction function\n",
        "def predict_next_char(model, char_to_ix, ix_to_char, initial_str):\n",
        "    model.eval()\n",
        "    with torch.no_grad():\n",
        "        initial_input = torch.tensor([char_to_ix[c] for c in initial_str[-max_length:]], dtype=torch.long).unsqueeze(0)\n",
        "        prediction = model(initial_input)\n",
        "        predicted_index = torch.argmax(prediction, dim=1).item()\n",
        "        return ix_to_char[predicted_index]\n",
        "\n",
        "# Predicting the next character\n",
        "test_str = \"This is a simple example to demonstrate how to predict the next char\"\n",
        "predicted_char = predict_next_char(model, char_to_ix, ix_to_char, test_str)\n",
        "print(f\"Predicted next character: '{predicted_char}'\")"
      ],
      "metadata": {
        "id": "1tb1RaHkUa70",
        "colab": {
          "base_uri": "https://localhost:8080/"
        },
        "outputId": "27584e7b-6ad8-43f3-f692-c1aff42ccde5"
      },
      "execution_count": null,
      "outputs": [
        {
          "output_type": "stream",
          "name": "stdout",
          "text": [
            "Predicted next character: 'a'\n"
          ]
        }
      ]
    },
    {
      "cell_type": "markdown",
      "source": [
        "**MAXIMUM LENGTH OF INPUT SECQUENCES = 20**"
      ],
      "metadata": {
        "id": "Er6jlhU9v0s8"
      }
    },
    {
      "cell_type": "code",
      "source": [
        "# Preparing the dataset\n",
        "max_length = 20  # Maximum length of input sequences\n",
        "X = []\n",
        "y = []\n",
        "for i in range(len(text) - max_length):\n",
        "    sequence = text[i:i + max_length]\n",
        "    label = text[i + max_length]\n",
        "    X.append([char_to_ix[char] for char in sequence])\n",
        "    y.append(char_to_ix[label])\n",
        "\n",
        "X = np.array(X)\n",
        "y = np.array(y)"
      ],
      "metadata": {
        "id": "k5QVdD9qv8cb"
      },
      "execution_count": null,
      "outputs": []
    },
    {
      "cell_type": "code",
      "source": [
        "# Splitting the dataset into training and validation sets\n",
        "X_train, X_val, y_train, y_val = train_test_split(X, y, test_size=0.2, random_state=42)"
      ],
      "metadata": {
        "id": "tkzbCB04wAQ5"
      },
      "execution_count": null,
      "outputs": []
    },
    {
      "cell_type": "code",
      "source": [
        "# Converting data to PyTorch tensors\n",
        "X_train = torch.tensor(X_train, dtype=torch.long)\n",
        "y_train = torch.tensor(y_train, dtype=torch.long)\n",
        "X_val = torch.tensor(X_val, dtype=torch.long)\n",
        "y_val = torch.tensor(y_val, dtype=torch.long)"
      ],
      "metadata": {
        "id": "RWWGFbjlwD8X"
      },
      "execution_count": null,
      "outputs": []
    },
    {
      "cell_type": "code",
      "source": [
        "# Defining the RNN model\n",
        "class CharRNN(nn.Module):\n",
        "    def __init__(self, input_size, hidden_size, output_size):\n",
        "        super(CharRNN, self).__init__()\n",
        "        self.hidden_size = hidden_size\n",
        "        #This line takes the input tensor x, which contains indices of characters, and passes it through an embedding layer (self.embedding).\n",
        "        #The embedding layer converts these indices into dense vectors of fixed size.\n",
        "        #These vectors are learned during training and can capture semantic similarities between characters.\n",
        "        #The result is a higher-dimensional representation of the input sequence, where each character index is replaced by its corresponding embedding vector.\n",
        "        self.embedding = nn.Embedding(input_size, hidden_size)\n",
        "        self.rnn = nn.LSTM(hidden_size, hidden_size, batch_first=True)\n",
        "        self.fc = nn.Linear(hidden_size, output_size)\n",
        "\n",
        "    def forward(self, x):\n",
        "        embedded = self.embedding(x)\n",
        "        #The RNN layer returns two outputs:\n",
        "        #1- the output tensor containing the output of the RNN at each time step for each sequence in the batch,\n",
        "        #2-the hidden state (_) of the last time step (which is not used in this line, hence the underscore).\n",
        "        output, _ = self.rnn(embedded)\n",
        "        #The RNN's output contains the outputs for every time step,\n",
        "        #but for this task, we're only interested in the output of the last time step because we're predicting the next character after the sequence.\n",
        "        #output[:, -1, :] selects the last time step's output for every sequence in the batch (-1 indexes the last item in Python).\n",
        "        output = self.fc(output[:, -1, :])  # Get the output of the last RNN cell\n",
        "        return output"
      ],
      "metadata": {
        "id": "zFl8uMW6wH2F"
      },
      "execution_count": null,
      "outputs": []
    },
    {
      "cell_type": "code",
      "source": [
        "# Hyperparameters\n",
        "hidden_size = 120\n",
        "learning_rate = 0.001\n",
        "epochs = 100"
      ],
      "metadata": {
        "id": "kqw6WPaLwQXJ"
      },
      "execution_count": null,
      "outputs": []
    },
    {
      "cell_type": "code",
      "source": [
        "# Model, loss, and optimizer\n",
        "model = CharRNN(len(chars), hidden_size, len(chars))\n",
        "criterion = nn.CrossEntropyLoss()\n",
        "optimizer = optim.Adam(model.parameters(), lr=learning_rate)"
      ],
      "metadata": {
        "id": "Ei1IO9iIwTnJ"
      },
      "execution_count": null,
      "outputs": []
    },
    {
      "cell_type": "code",
      "source": [
        "#count trainable parameters of the model\n",
        "def count_parameters(model):\n",
        "    return sum(p.numel() for p in model.parameters() if p.requires_grad)\n",
        "\n",
        "count_parameters(model)"
      ],
      "metadata": {
        "id": "WwZ-JxSuqbMX",
        "colab": {
          "base_uri": "https://localhost:8080/"
        },
        "outputId": "2d04e5d5-7cab-47cd-85df-5e3d0f3be185"
      },
      "execution_count": null,
      "outputs": [
        {
          "output_type": "execute_result",
          "data": {
            "text/plain": [
              "126764"
            ]
          },
          "metadata": {},
          "execution_count": 20
        }
      ]
    },
    {
      "cell_type": "code",
      "source": [
        "# Training the model\n",
        "start_time = time.time()\n",
        "for epoch in range(epochs):\n",
        "    model.train()\n",
        "    optimizer.zero_grad()\n",
        "    output = model(X_train)\n",
        "    loss = criterion(output, y_train)\n",
        "    loss.backward()\n",
        "    optimizer.step()\n",
        "\n",
        "    # Training accuracy\n",
        "    with torch.no_grad():\n",
        "        _, predicted_train = torch.max(output, 1)\n",
        "        train_accuracy = (predicted_train == y_train).float().mean()\n",
        "\n",
        "    # Validation\n",
        "    model.eval()\n",
        "    with torch.no_grad():\n",
        "        val_output = model(X_val)\n",
        "        val_loss = criterion(val_output, y_val)\n",
        "        _, predicted_val = torch.max(val_output, 1)\n",
        "        val_accuracy = (predicted_val == y_val).float().mean()\n",
        "\n",
        "    if (epoch+1) % 10 == 0:\n",
        "        print(f'Epoch {epoch+1}, Training Loss: {loss.item():.4f}, Training Accuracy: {train_accuracy.item():.4f}, Validation Loss: {val_loss.item():.4f}, Validation Accuracy: {val_accuracy.item():.4f}')\n",
        "\n",
        "end_time = time.time()\n",
        "training_time = end_time - start_time\n",
        "print(f\"Training time: {training_time} seconds\")"
      ],
      "metadata": {
        "colab": {
          "base_uri": "https://localhost:8080/"
        },
        "id": "ykxNe0k3wcmv",
        "outputId": "d4e0f7c4-7034-4263-d3e1-7ab28e46f611"
      },
      "execution_count": null,
      "outputs": [
        {
          "output_type": "stream",
          "name": "stdout",
          "text": [
            "Epoch 10, Training Loss: 3.3630, Training Accuracy: 0.1776, Validation Loss: 3.2921, Validation Accuracy: 0.1814\n",
            "Epoch 20, Training Loss: 2.8915, Training Accuracy: 0.2193, Validation Loss: 2.8392, Validation Accuracy: 0.2215\n",
            "Epoch 30, Training Loss: 2.6872, Training Accuracy: 0.2574, Validation Loss: 2.6731, Validation Accuracy: 0.2743\n",
            "Epoch 40, Training Loss: 2.5122, Training Accuracy: 0.3171, Validation Loss: 2.5240, Validation Accuracy: 0.3080\n",
            "Epoch 50, Training Loss: 2.3588, Training Accuracy: 0.3626, Validation Loss: 2.3972, Validation Accuracy: 0.3460\n",
            "Epoch 60, Training Loss: 2.2223, Training Accuracy: 0.3906, Validation Loss: 2.2991, Validation Accuracy: 0.3776\n",
            "Epoch 70, Training Loss: 2.0960, Training Accuracy: 0.4255, Validation Loss: 2.2203, Validation Accuracy: 0.4030\n",
            "Epoch 80, Training Loss: 1.9758, Training Accuracy: 0.4535, Validation Loss: 2.1538, Validation Accuracy: 0.4262\n",
            "Epoch 90, Training Loss: 1.8593, Training Accuracy: 0.4815, Validation Loss: 2.0948, Validation Accuracy: 0.4367\n",
            "Epoch 100, Training Loss: 1.7438, Training Accuracy: 0.5190, Validation Loss: 2.0491, Validation Accuracy: 0.4599\n",
            "Training time: 100.14862251281738 seconds\n"
          ]
        }
      ]
    },
    {
      "cell_type": "code",
      "source": [
        "# Prediction function\n",
        "def predict_next_char(model, char_to_ix, ix_to_char, initial_str):\n",
        "    model.eval()\n",
        "    with torch.no_grad():\n",
        "        initial_input = torch.tensor([char_to_ix[c] for c in initial_str[-max_length:]], dtype=torch.long).unsqueeze(0)\n",
        "        prediction = model(initial_input)\n",
        "        predicted_index = torch.argmax(prediction, dim=1).item()\n",
        "        return ix_to_char[predicted_index]\n",
        "\n",
        "# Predicting the next character\n",
        "test_str = \"This is a simple example to demonstrate how to predict the next char\"\n",
        "predicted_char = predict_next_char(model, char_to_ix, ix_to_char, test_str)\n",
        "print(f\"Predicted next character: '{predicted_char}'\")"
      ],
      "metadata": {
        "colab": {
          "base_uri": "https://localhost:8080/"
        },
        "id": "jONuVlPFwdeT",
        "outputId": "5a7ad8a5-938e-41ac-b75c-7496d4f23be6"
      },
      "execution_count": null,
      "outputs": [
        {
          "output_type": "stream",
          "name": "stdout",
          "text": [
            "Predicted next character: 'a'\n"
          ]
        }
      ]
    },
    {
      "cell_type": "markdown",
      "source": [
        "MAXIMUM LENGTH OF INPUT SECQUENCES = 30"
      ],
      "metadata": {
        "id": "HzVQ6p7Uwh9M"
      }
    },
    {
      "cell_type": "code",
      "source": [
        "# Preparing the dataset\n",
        "max_length = 30  # Maximum length of input sequences\n",
        "X = []\n",
        "y = []\n",
        "for i in range(len(text) - max_length):\n",
        "    sequence = text[i:i + max_length]\n",
        "    label = text[i + max_length]\n",
        "    X.append([char_to_ix[char] for char in sequence])\n",
        "    y.append(char_to_ix[label])\n",
        "\n",
        "X = np.array(X)\n",
        "y = np.array(y)"
      ],
      "metadata": {
        "id": "-ZC6clLxwmwZ"
      },
      "execution_count": null,
      "outputs": []
    },
    {
      "cell_type": "code",
      "source": [
        "# Splitting the dataset into training and validation sets\n",
        "X_train, X_val, y_train, y_val = train_test_split(X, y, test_size=0.2, random_state=42)"
      ],
      "metadata": {
        "id": "o1DOXm1vwwZF"
      },
      "execution_count": null,
      "outputs": []
    },
    {
      "cell_type": "code",
      "source": [
        "# Converting data to PyTorch tensors\n",
        "X_train = torch.tensor(X_train, dtype=torch.long)\n",
        "y_train = torch.tensor(y_train, dtype=torch.long)\n",
        "X_val = torch.tensor(X_val, dtype=torch.long)\n",
        "y_val = torch.tensor(y_val, dtype=torch.long)"
      ],
      "metadata": {
        "id": "cRtdeDM1wxZw"
      },
      "execution_count": null,
      "outputs": []
    },
    {
      "cell_type": "code",
      "source": [
        "# Defining the RNN model\n",
        "class CharRNN(nn.Module):\n",
        "    def __init__(self, input_size, hidden_size, output_size):\n",
        "        super(CharRNN, self).__init__()\n",
        "        self.hidden_size = hidden_size\n",
        "        #This line takes the input tensor x, which contains indices of characters, and passes it through an embedding layer (self.embedding).\n",
        "        #The embedding layer converts these indices into dense vectors of fixed size.\n",
        "        #These vectors are learned during training and can capture semantic similarities between characters.\n",
        "        #The result is a higher-dimensional representation of the input sequence, where each character index is replaced by its corresponding embedding vector.\n",
        "        self.embedding = nn.Embedding(input_size, hidden_size)\n",
        "        self.rnn = nn.LSTM(hidden_size, hidden_size, batch_first=True)\n",
        "        self.fc = nn.Linear(hidden_size, output_size)\n",
        "\n",
        "    def forward(self, x):\n",
        "        embedded = self.embedding(x)\n",
        "        #The RNN layer returns two outputs:\n",
        "        #1- the output tensor containing the output of the RNN at each time step for each sequence in the batch,\n",
        "        #2-the hidden state (_) of the last time step (which is not used in this line, hence the underscore).\n",
        "        output, _ = self.rnn(embedded)\n",
        "        #The RNN's output contains the outputs for every time step,\n",
        "        #but for this task, we're only interested in the output of the last time step because we're predicting the next character after the sequence.\n",
        "        #output[:, -1, :] selects the last time step's output for every sequence in the batch (-1 indexes the last item in Python).\n",
        "        output = self.fc(output[:, -1, :])  # Get the output of the last RNN cell\n",
        "        return output"
      ],
      "metadata": {
        "id": "dQY2Xnffw0OU"
      },
      "execution_count": null,
      "outputs": []
    },
    {
      "cell_type": "code",
      "source": [
        "# Hyperparameters\n",
        "hidden_size = 120\n",
        "learning_rate = 0.001\n",
        "epochs = 100"
      ],
      "metadata": {
        "id": "T-EmWOC9w3PQ"
      },
      "execution_count": null,
      "outputs": []
    },
    {
      "cell_type": "code",
      "source": [
        "# Model, loss, and optimizer\n",
        "model = CharRNN(len(chars), hidden_size, len(chars))\n",
        "criterion = nn.CrossEntropyLoss()\n",
        "optimizer = optim.Adam(model.parameters(), lr=learning_rate)"
      ],
      "metadata": {
        "id": "Dhm3fz4-w6IY"
      },
      "execution_count": null,
      "outputs": []
    },
    {
      "cell_type": "code",
      "source": [
        "#count trainable parameters of the model\n",
        "def count_parameters(model):\n",
        "    return sum(p.numel() for p in model.parameters() if p.requires_grad)\n",
        "\n",
        "count_parameters(model)"
      ],
      "metadata": {
        "id": "7qtY5EiERzCL",
        "outputId": "936d0251-2fbd-4eed-f8bf-c5b355ab9fc4",
        "colab": {
          "base_uri": "https://localhost:8080/"
        }
      },
      "execution_count": null,
      "outputs": [
        {
          "output_type": "execute_result",
          "data": {
            "text/plain": [
              "126764"
            ]
          },
          "metadata": {},
          "execution_count": 29
        }
      ]
    },
    {
      "cell_type": "code",
      "source": [
        "# Training the model\n",
        "start_time = time.time()\n",
        "for epoch in range(epochs):\n",
        "    model.train()\n",
        "    optimizer.zero_grad()\n",
        "    output = model(X_train)\n",
        "    loss = criterion(output, y_train)\n",
        "    loss.backward()\n",
        "    optimizer.step()\n",
        "\n",
        "    # Training accuracy\n",
        "    with torch.no_grad():\n",
        "        _, predicted_train = torch.max(output, 1)\n",
        "        train_accuracy = (predicted_train == y_train).float().mean()\n",
        "\n",
        "    # Validation\n",
        "    model.eval()\n",
        "    with torch.no_grad():\n",
        "        val_output = model(X_val)\n",
        "        val_loss = criterion(val_output, y_val)\n",
        "        _, predicted_val = torch.max(val_output, 1)\n",
        "        val_accuracy = (predicted_val == y_val).float().mean()\n",
        "\n",
        "    if (epoch+1) % 10 == 0:\n",
        "        print(f'Epoch {epoch+1}, Training Loss: {loss.item():.4f}, Training Accuracy: {train_accuracy.item():.4f}, Validation Loss: {val_loss.item():.4f}, Validation Accuracy: {val_accuracy.item():.4f}')\n",
        "\n",
        "end_time = time.time()\n",
        "training_time = end_time - start_time\n",
        "print(f\"Training time: {training_time} seconds\")"
      ],
      "metadata": {
        "colab": {
          "base_uri": "https://localhost:8080/"
        },
        "id": "jRbE2ykQw_kp",
        "outputId": "a97f7245-bcdf-4e17-f5f8-5f94f99c4403"
      },
      "execution_count": null,
      "outputs": [
        {
          "output_type": "stream",
          "name": "stdout",
          "text": [
            "Epoch 10, Training Loss: 3.3987, Training Accuracy: 0.2282, Validation Loss: 3.3610, Validation Accuracy: 0.1886\n",
            "Epoch 20, Training Loss: 2.9210, Training Accuracy: 0.1693, Validation Loss: 2.9287, Validation Accuracy: 0.1610\n",
            "Epoch 30, Training Loss: 2.7206, Training Accuracy: 0.2702, Validation Loss: 2.7457, Validation Accuracy: 0.2669\n",
            "Epoch 40, Training Loss: 2.5545, Training Accuracy: 0.3307, Validation Loss: 2.6167, Validation Accuracy: 0.3072\n",
            "Epoch 50, Training Loss: 2.3954, Training Accuracy: 0.3609, Validation Loss: 2.4915, Validation Accuracy: 0.3305\n",
            "Epoch 60, Training Loss: 2.2550, Training Accuracy: 0.3928, Validation Loss: 2.3930, Validation Accuracy: 0.3623\n",
            "Epoch 70, Training Loss: 2.1247, Training Accuracy: 0.4230, Validation Loss: 2.3094, Validation Accuracy: 0.4025\n",
            "Epoch 80, Training Loss: 2.0005, Training Accuracy: 0.4506, Validation Loss: 2.2381, Validation Accuracy: 0.4216\n",
            "Epoch 90, Training Loss: 1.8801, Training Accuracy: 0.4809, Validation Loss: 2.1757, Validation Accuracy: 0.4322\n",
            "Epoch 100, Training Loss: 1.7630, Training Accuracy: 0.5122, Validation Loss: 2.1238, Validation Accuracy: 0.4492\n",
            "Training time: 146.09575939178467 seconds\n"
          ]
        }
      ]
    },
    {
      "cell_type": "code",
      "source": [
        "# Prediction function\n",
        "def predict_next_char(model, char_to_ix, ix_to_char, initial_str):\n",
        "    model.eval()\n",
        "    with torch.no_grad():\n",
        "        initial_input = torch.tensor([char_to_ix[c] for c in initial_str[-max_length:]], dtype=torch.long).unsqueeze(0)\n",
        "        prediction = model(initial_input)\n",
        "        predicted_index = torch.argmax(prediction, dim=1).item()\n",
        "        return ix_to_char[predicted_index]\n",
        "\n",
        "# Predicting the next character\n",
        "test_str = \"This is a simple example to demonstrate how to predict the next char\"\n",
        "predicted_char = predict_next_char(model, char_to_ix, ix_to_char, test_str)\n",
        "print(f\"Predicted next character: '{predicted_char}'\")"
      ],
      "metadata": {
        "colab": {
          "base_uri": "https://localhost:8080/"
        },
        "id": "xX477lmKxCW_",
        "outputId": "2b08c0ed-3066-4645-bcdc-5a155b17028c"
      },
      "execution_count": null,
      "outputs": [
        {
          "output_type": "stream",
          "name": "stdout",
          "text": [
            "Predicted next character: 'a'\n"
          ]
        }
      ]
    }
  ]
}